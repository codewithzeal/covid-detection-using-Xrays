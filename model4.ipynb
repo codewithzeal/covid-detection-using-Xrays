{
 "cells": [
  {
   "cell_type": "markdown",
   "id": "b30740cf-711f-4663-a3f1-9ce226a39ba0",
   "metadata": {},
   "source": [
    "# About"
   ]
  },
  {
   "cell_type": "markdown",
   "id": "e693cd1c-b7ba-4489-aaee-734a9799ddf5",
   "metadata": {},
   "source": [
    "#### Uses CNN with CLAHE+Fourier smoothed images"
   ]
  },
  {
   "cell_type": "code",
   "execution_count": 1,
   "id": "ef34d791-6498-4afc-b71b-08f0b9b20f77",
   "metadata": {},
   "outputs": [],
   "source": [
    "TRAIN_PATH=\"CovidDataset4/train\"\n",
    "VAL_PATH=\"CovidDataset4/val\""
   ]
  },
  {
   "cell_type": "code",
   "execution_count": 1,
   "id": "3159bc75-66af-44dc-81cb-10cce909a5b7",
   "metadata": {},
   "outputs": [],
   "source": [
    "import numpy as np\n",
    "import matplotlib.pyplot as plt\n",
    "import keras\n",
    "from keras.layers import *\n",
    "from keras.models import *\n",
    "from keras.preprocessing import image"
   ]
  },
  {
   "cell_type": "code",
   "execution_count": 2,
   "id": "ca626b98-77ca-46ff-a634-3aebfd0d2b40",
   "metadata": {},
   "outputs": [],
   "source": [
    "model=Sequential()\n",
    "model.add(Conv2D(32,kernel_size=(3,3),activation='relu',input_shape=(190,190,3)))\n",
    "model.add(Conv2D(64,kernel_size=(3,3),activation='relu'))\n",
    "model.add(MaxPooling2D(pool_size=(2,2)))\n",
    "model.add(Dropout(0.25))\n",
    "\n",
    "model.add(Conv2D(64,kernel_size=(3,3),activation='relu'))\n",
    "model.add(MaxPooling2D(pool_size=(2,2)))\n",
    "model.add(Dropout(0.25))\n",
    "\n",
    "\n",
    "model.add(Conv2D(128,kernel_size=(3,3),activation='relu'))\n",
    "model.add(MaxPooling2D(pool_size=(2,2)))\n",
    "model.add(Dropout(0.25))\n",
    "\n",
    "\n",
    "model.add(Flatten())\n",
    "model.add(Dense(64,activation='relu'))\n",
    "model.add(Dropout(0.5))\n",
    "model.add(Dense(1,activation='sigmoid'))\n",
    "\n",
    "\n",
    "model.compile(loss=keras.losses.binary_crossentropy,optimizer='adam',metrics=['accuracy'])\n"
   ]
  },
  {
   "cell_type": "code",
   "execution_count": 3,
   "id": "436f1759-d070-43fa-83dc-b5cdaa713a56",
   "metadata": {},
   "outputs": [
    {
     "name": "stdout",
     "output_type": "stream",
     "text": [
      "Model: \"sequential\"\n",
      "_________________________________________________________________\n",
      " Layer (type)                Output Shape              Param #   \n",
      "=================================================================\n",
      " conv2d (Conv2D)             (None, 188, 188, 32)      896       \n",
      "                                                                 \n",
      " conv2d_1 (Conv2D)           (None, 186, 186, 64)      18496     \n",
      "                                                                 \n",
      " max_pooling2d (MaxPooling2D  (None, 93, 93, 64)       0         \n",
      " )                                                               \n",
      "                                                                 \n",
      " dropout (Dropout)           (None, 93, 93, 64)        0         \n",
      "                                                                 \n",
      " conv2d_2 (Conv2D)           (None, 91, 91, 64)        36928     \n",
      "                                                                 \n",
      " max_pooling2d_1 (MaxPooling  (None, 45, 45, 64)       0         \n",
      " 2D)                                                             \n",
      "                                                                 \n",
      " dropout_1 (Dropout)         (None, 45, 45, 64)        0         \n",
      "                                                                 \n",
      " conv2d_3 (Conv2D)           (None, 43, 43, 128)       73856     \n",
      "                                                                 \n",
      " max_pooling2d_2 (MaxPooling  (None, 21, 21, 128)      0         \n",
      " 2D)                                                             \n",
      "                                                                 \n",
      " dropout_2 (Dropout)         (None, 21, 21, 128)       0         \n",
      "                                                                 \n",
      " flatten (Flatten)           (None, 56448)             0         \n",
      "                                                                 \n",
      " dense (Dense)               (None, 64)                3612736   \n",
      "                                                                 \n",
      " dropout_3 (Dropout)         (None, 64)                0         \n",
      "                                                                 \n",
      " dense_1 (Dense)             (None, 1)                 65        \n",
      "                                                                 \n",
      "=================================================================\n",
      "Total params: 3,742,977\n",
      "Trainable params: 3,742,977\n",
      "Non-trainable params: 0\n",
      "_________________________________________________________________\n"
     ]
    }
   ],
   "source": [
    "model.summary()"
   ]
  },
  {
   "cell_type": "markdown",
   "id": "f910e3b7-309e-4061-9a16-b8f3152d0113",
   "metadata": {},
   "source": [
    "##### This generates a dataset for training on images. The two folders namely covid and normal is automatically classified as two classes of output"
   ]
  },
  {
   "cell_type": "code",
   "execution_count": 4,
   "id": "45b6d6d4-2754-49da-ae45-73c1d4205603",
   "metadata": {},
   "outputs": [],
   "source": [
    "train_datagen=image.ImageDataGenerator(\n",
    "rescale=1./255,\n",
    "    shear_range=0.2,\n",
    "    zoom_range=0.2,\n",
    "    horizontal_flip=True\n",
    ")\n",
    "test_datagen=image.ImageDataGenerator(rescale=1./255)\n"
   ]
  },
  {
   "cell_type": "code",
   "execution_count": 5,
   "id": "353098b0-af25-4c5c-b380-52954f62640d",
   "metadata": {},
   "outputs": [
    {
     "name": "stdout",
     "output_type": "stream",
     "text": [
      "Found 224 images belonging to 2 classes.\n"
     ]
    }
   ],
   "source": [
    "train_generator=train_datagen.flow_from_directory(\n",
    "'CovidDataset4/train',\n",
    "    target_size=(190,190),\n",
    "    batch_size=32,\n",
    "    class_mode='binary'\n",
    ")"
   ]
  },
  {
   "cell_type": "code",
   "execution_count": 6,
   "id": "794df95b-7de0-4c26-9c5c-d929b65e77f1",
   "metadata": {},
   "outputs": [
    {
     "data": {
      "text/plain": [
       "{'covid': 0, 'normal': 1}"
      ]
     },
     "execution_count": 6,
     "metadata": {},
     "output_type": "execute_result"
    }
   ],
   "source": [
    "train_generator.class_indices"
   ]
  },
  {
   "cell_type": "code",
   "execution_count": 7,
   "id": "1bb79d5f-fad0-4ea1-834a-2970c7be4215",
   "metadata": {},
   "outputs": [
    {
     "name": "stdout",
     "output_type": "stream",
     "text": [
      "Found 60 images belonging to 2 classes.\n"
     ]
    }
   ],
   "source": [
    "validation_generator=test_datagen.flow_from_directory(\n",
    "'CovidDataset4/val',\n",
    "    target_size=(190,190),\n",
    "    batch_size=32,\n",
    "    class_mode='binary'\n",
    ")"
   ]
  },
  {
   "cell_type": "code",
   "execution_count": 8,
   "id": "8b35db3a-d4f1-45a1-832f-5e361bab3b84",
   "metadata": {},
   "outputs": [
    {
     "data": {
      "text/plain": [
       "{'covid': 0, 'normal': 1}"
      ]
     },
     "execution_count": 8,
     "metadata": {},
     "output_type": "execute_result"
    }
   ],
   "source": [
    "validation_generator.class_indices"
   ]
  },
  {
   "cell_type": "code",
   "execution_count": 9,
   "id": "19309dcc-535b-4003-af1a-4f0c85c35b7e",
   "metadata": {},
   "outputs": [
    {
     "name": "stdout",
     "output_type": "stream",
     "text": [
      "Epoch 1/14\n",
      "7/7 [==============================] - 39s 5s/step - loss: 1.3767 - accuracy: 0.5045 - val_loss: 0.6896 - val_accuracy: 0.5000\n",
      "Epoch 2/14\n",
      "7/7 [==============================] - 41s 6s/step - loss: 0.6898 - accuracy: 0.5536 - val_loss: 0.6820 - val_accuracy: 0.5000\n",
      "Epoch 3/14\n",
      "7/7 [==============================] - 31s 4s/step - loss: 0.6860 - accuracy: 0.5580 - val_loss: 0.6773 - val_accuracy: 0.5667\n",
      "Epoch 4/14\n",
      "7/7 [==============================] - 31s 4s/step - loss: 0.6401 - accuracy: 0.6473 - val_loss: 0.6089 - val_accuracy: 0.6000\n",
      "Epoch 5/14\n",
      "7/7 [==============================] - 31s 4s/step - loss: 0.5638 - accuracy: 0.6964 - val_loss: 0.4738 - val_accuracy: 0.7667\n",
      "Epoch 6/14\n",
      "7/7 [==============================] - 42s 6s/step - loss: 0.4441 - accuracy: 0.7946 - val_loss: 0.2824 - val_accuracy: 0.9500\n",
      "Epoch 7/14\n",
      "7/7 [==============================] - 46s 7s/step - loss: 0.2803 - accuracy: 0.9107 - val_loss: 0.1032 - val_accuracy: 0.9833\n",
      "Epoch 8/14\n",
      "7/7 [==============================] - 40s 6s/step - loss: 0.2071 - accuracy: 0.9241 - val_loss: 0.0912 - val_accuracy: 0.9667\n",
      "Epoch 9/14\n",
      "7/7 [==============================] - 43s 6s/step - loss: 0.2582 - accuracy: 0.9062 - val_loss: 0.1327 - val_accuracy: 0.9667\n",
      "Epoch 10/14\n",
      "7/7 [==============================] - 48s 7s/step - loss: 0.2145 - accuracy: 0.9420 - val_loss: 0.1427 - val_accuracy: 0.9500\n",
      "Epoch 11/14\n",
      "7/7 [==============================] - 40s 6s/step - loss: 0.1607 - accuracy: 0.9464 - val_loss: 0.0895 - val_accuracy: 0.9500\n",
      "Epoch 12/14\n",
      "7/7 [==============================] - 38s 5s/step - loss: 0.1530 - accuracy: 0.9420 - val_loss: 0.0423 - val_accuracy: 0.9833\n",
      "Epoch 13/14\n",
      "7/7 [==============================] - 41s 6s/step - loss: 0.1724 - accuracy: 0.9420 - val_loss: 0.0715 - val_accuracy: 0.9667\n",
      "Epoch 14/14\n",
      "7/7 [==============================] - 45s 6s/step - loss: 0.1376 - accuracy: 0.9598 - val_loss: 0.0732 - val_accuracy: 0.9833\n"
     ]
    }
   ],
   "source": [
    "hist=model.fit(\n",
    "train_generator,\n",
    "    epochs=14,\n",
    "    validation_data=validation_generator,\n",
    "    validation_steps=2\n",
    ")"
   ]
  },
  {
   "cell_type": "code",
   "execution_count": 10,
   "id": "6bbc7d27-919f-4d05-8e7e-5e920b5c1389",
   "metadata": {},
   "outputs": [],
   "source": [
    "model.save('initial_model4.h5')"
   ]
  },
  {
   "cell_type": "code",
   "execution_count": null,
   "id": "47964c44-9200-4e33-b376-ff18d596d9a7",
   "metadata": {},
   "outputs": [],
   "source": []
  },
  {
   "cell_type": "code",
   "execution_count": null,
   "id": "efe752aa-32c2-4b8e-86ff-03bdec9fce8a",
   "metadata": {},
   "outputs": [],
   "source": []
  }
 ],
 "metadata": {
  "kernelspec": {
   "display_name": "Python 3 (ipykernel)",
   "language": "python",
   "name": "python3"
  },
  "language_info": {
   "codemirror_mode": {
    "name": "ipython",
    "version": 3
   },
   "file_extension": ".py",
   "mimetype": "text/x-python",
   "name": "python",
   "nbconvert_exporter": "python",
   "pygments_lexer": "ipython3",
   "version": "3.9.0"
  }
 },
 "nbformat": 4,
 "nbformat_minor": 5
}
