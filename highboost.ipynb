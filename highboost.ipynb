{
 "cells": [
  {
   "cell_type": "markdown",
   "id": "3f7bb5d8-7ace-4b7a-9481-d338036966c3",
   "metadata": {},
   "source": [
    "# About"
   ]
  },
  {
   "cell_type": "markdown",
   "id": "69bcd9a1-39af-4046-b82d-4ad7413e79ff",
   "metadata": {},
   "source": [
    "This file generates a dataset which contains image which are filtered using highboost filtering. Create a dataset wherein you want to store the images. In this case folder is covidDatset7"
   ]
  },
  {
   "cell_type": "code",
   "execution_count": null,
   "id": "03a0b3bb-41c2-4464-ae97-6fb9efb3ae0b",
   "metadata": {},
   "outputs": [
    {
     "name": "stdout",
     "output_type": "stream",
     "text": [
      "doing image:  1\n"
     ]
    },
    {
     "name": "stderr",
     "output_type": "stream",
     "text": [
      "C:\\Users\\HP\\AppData\\Local\\Temp/ipykernel_3360/3441617287.py:22: RuntimeWarning: overflow encountered in ubyte_scalars\n",
      "  mask[x][y] = image[x][y] - gaussBlur[x][y]\n"
     ]
    },
    {
     "name": "stdout",
     "output_type": "stream",
     "text": [
      "doing image:  2\n",
      "doing image:  3\n",
      "doing image:  4\n",
      "doing image:  5\n",
      "doing image:  6\n",
      "doing image:  7\n",
      "doing image:  8\n",
      "doing image:  9\n",
      "doing image:  10\n",
      "doing image:  11\n",
      "doing image:  12\n",
      "doing image:  13\n",
      "doing image:  14\n",
      "doing image:  15\n",
      "doing image:  16\n",
      "doing image:  17\n",
      "doing image:  18\n",
      "doing image:  19\n",
      "doing image:  20\n",
      "doing image:  21\n",
      "doing image:  22\n",
      "doing image:  23\n",
      "doing image:  24\n",
      "doing image:  25\n",
      "doing image:  26\n",
      "doing image:  27\n",
      "doing image:  28\n",
      "doing image:  29\n",
      "doing image:  30\n",
      "doing image:  31\n",
      "doing image:  32\n",
      "doing image:  33\n",
      "doing image:  34\n",
      "doing image:  35\n",
      "doing image:  36\n",
      "doing image:  37\n",
      "doing image:  38\n",
      "doing image:  39\n",
      "doing image:  40\n",
      "doing image:  41\n",
      "doing image:  42\n",
      "doing image:  43\n",
      "doing image:  44\n",
      "doing image:  45\n",
      "doing image:  46\n",
      "doing image:  47\n",
      "doing image:  48\n",
      "doing image:  49\n",
      "doing image:  50\n",
      "doing image:  51\n",
      "doing image:  52\n",
      "doing image:  53\n",
      "doing image:  54\n",
      "doing image:  55\n",
      "doing image:  56\n",
      "doing image:  57\n",
      "doing image:  58\n",
      "doing image:  59\n",
      "doing image:  60\n",
      "doing image:  61\n",
      "doing image:  62\n",
      "doing image:  63\n",
      "doing image:  64\n",
      "doing image:  65\n",
      "doing image:  66\n",
      "doing image:  67\n",
      "doing image:  68\n",
      "doing image:  69\n",
      "doing image:  70\n",
      "doing image:  71\n",
      "doing image:  72\n",
      "doing image:  73\n",
      "doing image:  74\n",
      "doing image:  75\n",
      "doing image:  76\n",
      "doing image:  77\n",
      "doing image:  78\n",
      "doing image:  79\n",
      "doing image:  80\n",
      "doing image:  81\n",
      "doing image:  82\n",
      "doing image:  83\n",
      "doing image:  84\n",
      "doing image:  85\n",
      "doing image:  86\n",
      "doing image:  87\n",
      "doing image:  88\n",
      "doing image:  89\n",
      "doing image:  90\n",
      "doing image:  91\n",
      "doing image:  92\n",
      "doing image:  93\n",
      "doing image:  94\n",
      "doing image:  95\n",
      "doing image:  96\n",
      "doing image:  97\n",
      "doing image:  98\n",
      "doing image:  99\n",
      "doing image:  100\n",
      "doing image:  101\n",
      "doing image:  102\n",
      "doing image:  103\n",
      "doing image:  104\n",
      "doing image:  105\n",
      "doing image:  106\n",
      "doing image:  107\n",
      "doing image:  108\n",
      "doing image:  109\n",
      "doing image:  110\n",
      "doing image:  111\n",
      "doing image:  112\n"
     ]
    }
   ],
   "source": [
    "import numpy as np\n",
    "import cv2\n",
    "import os\n",
    "arr = os.listdir(\"covidDataset/train/covid\")\n",
    "i=0\n",
    "for img in arr:\n",
    "    print(\"doing image: \",i+1)\n",
    "    i+=1\n",
    "    path = \"covidDataset/train/covid/\"+img;\n",
    "    image = cv2.imread(path,0)\n",
    "    image=cv2.resize(image, (200, 200),fx=0.1,fy=0.1)\n",
    "    width , height = image.shape\n",
    "    mask = np.empty((width,height),dtype=float, order='C')\n",
    "    k=5\n",
    "    highBoostFiltered = np.empty((width,height),dtype=float, order='C')\n",
    "    if image is not None:\n",
    "        equ = cv2.equalizeHist(image)\n",
    "        res = np.hstack((image, equ))\n",
    "        gaussBlur =  cv.GaussianBlur(image,(5,5),0) \n",
    "        for x in range(width):\n",
    "            for y in range(height):\n",
    "                mask[x][y] = image[x][y] - gaussBlur[x][y]\n",
    "                highBoostFiltered[x][y] = image[x][y] + k*mask[x][y]\n",
    "            pathToDest = 'covidDataset7/train/covid/'+img;\n",
    "            cv2.imwrite(pathToDest,highBoostFiltered)\n",
    "    else:\n",
    "        print(\"Could not load image\")"
   ]
  },
  {
   "cell_type": "code",
   "execution_count": 14,
   "id": "9bcada8d-4c58-4263-9467-17fbcbe3673b",
   "metadata": {},
   "outputs": [
    {
     "name": "stderr",
     "output_type": "stream",
     "text": [
      "C:\\Users\\HP\\AppData\\Local\\Temp/ipykernel_3360/3163394087.py:16: RuntimeWarning: overflow encountered in ubyte_scalars\n",
      "  mask[x][y] = image[x][y] - gaussBlur[x][y]\n"
     ]
    }
   ],
   "source": [
    "arr = os.listdir(\"covidDataset/train/normal\")\n",
    "for img in arr:\n",
    "    path = \"covidDataset/train/normal/\"+img;\n",
    "    image = cv2.imread(path,0)\n",
    "    image=cv2.resize(image, (200, 200),fx=0.1,fy=0.1)\n",
    "    width , height = image.shape\n",
    "    mask = np.empty((width,height),dtype=float, order='C')\n",
    "    k=5\n",
    "    highBoostFiltered = np.empty((width,height),dtype=float, order='C')\n",
    "    if image is not None:\n",
    "        equ = cv2.equalizeHist(image)\n",
    "        res = np.hstack((image, equ))\n",
    "        gaussBlur =  cv.GaussianBlur(image,(5,5),0)\n",
    "        for x in range(width):\n",
    "            for y in range(height):\n",
    "                mask[x][y] = image[x][y] - gaussBlur[x][y]\n",
    "                highBoostFiltered[x][y] = image[x][y] + k*mask[x][y]\n",
    "            pathToDest = 'covidDataset7/train/normal/'+img;\n",
    "            cv2.imwrite(pathToDest,highBoostFiltered)\n",
    "    else:\n",
    "        print(\"Could not load image\")"
   ]
  },
  {
   "cell_type": "code",
   "execution_count": 15,
   "id": "625da9a3-7307-43ac-ada0-aa13d6bf78a1",
   "metadata": {},
   "outputs": [
    {
     "name": "stderr",
     "output_type": "stream",
     "text": [
      "C:\\Users\\HP\\AppData\\Local\\Temp/ipykernel_3360/1198557491.py:16: RuntimeWarning: overflow encountered in ubyte_scalars\n",
      "  mask[x][y] = image[x][y] - gaussBlur[x][y]\n"
     ]
    }
   ],
   "source": [
    "arr = os.listdir(\"covidDataset/val/covid\")\n",
    "for img in arr:\n",
    "    path = \"covidDataset/val/covid/\"+img;\n",
    "    image = cv2.imread(path,0)\n",
    "    image=cv2.resize(image, (200, 200),fx=0.1,fy=0.1)\n",
    "    width , height = image.shape\n",
    "    mask = np.empty((width,height),dtype=float, order='C')\n",
    "    k=5\n",
    "    highBoostFiltered = np.empty((width,height),dtype=float, order='C')\n",
    "    if image is not None:\n",
    "        equ = cv2.equalizeHist(image)\n",
    "        res = np.hstack((image, equ))\n",
    "        gaussBlur =  cv.GaussianBlur(image,(5,5),0)\n",
    "        for x in range(width):\n",
    "            for y in range(height):\n",
    "                mask[x][y] = image[x][y] - gaussBlur[x][y]\n",
    "                highBoostFiltered[x][y] = image[x][y] + k*mask[x][y]\n",
    "            pathToDest = 'covidDataset7/val/covid/'+img;\n",
    "            cv2.imwrite(pathToDest,highBoostFiltered)\n",
    "    else:\n",
    "        print(\"Could not load image\")"
   ]
  },
  {
   "cell_type": "code",
   "execution_count": 16,
   "id": "b72afe02-825f-43be-a7c8-f458fa5a76eb",
   "metadata": {},
   "outputs": [
    {
     "name": "stderr",
     "output_type": "stream",
     "text": [
      "C:\\Users\\HP\\AppData\\Local\\Temp/ipykernel_3360/1348509475.py:16: RuntimeWarning: overflow encountered in ubyte_scalars\n",
      "  mask[x][y] = image[x][y] - gaussBlur[x][y]\n"
     ]
    }
   ],
   "source": [
    "arr = os.listdir(\"covidDataset/val/normal\")\n",
    "for img in arr:\n",
    "    path = \"covidDataset/val/normal/\"+img;\n",
    "    image = cv2.imread(path,0)\n",
    "    image=cv2.resize(image, (200, 200),fx=0.1,fy=0.1)\n",
    "    width , height = image.shape\n",
    "    mask = np.empty((width,height),dtype=float, order='C')\n",
    "    k=5\n",
    "    highBoostFiltered = np.empty((width,height),dtype=float, order='C')\n",
    "    if image is not None:\n",
    "        equ = cv2.equalizeHist(image)\n",
    "        res = np.hstack((image, equ))\n",
    "        gaussBlur =  cv.GaussianBlur(image,(5,5),0)\n",
    "        for x in range(width):\n",
    "            for y in range(height):\n",
    "                mask[x][y] = image[x][y] - gaussBlur[x][y]\n",
    "                highBoostFiltered[x][y] = image[x][y] + k*mask[x][y]\n",
    "            pathToDest = 'covidDataset7/val/normal/'+img;\n",
    "            cv2.imwrite(pathToDest,highBoostFiltered)\n",
    "    else:\n",
    "        print(\"Could not load image\")"
   ]
  },
  {
   "cell_type": "code",
   "execution_count": null,
   "id": "29e01227-959f-4883-9467-4e686e7eed1e",
   "metadata": {},
   "outputs": [],
   "source": []
  }
 ],
 "metadata": {
  "kernelspec": {
   "display_name": "Python 3 (ipykernel)",
   "language": "python",
   "name": "python3"
  },
  "language_info": {
   "codemirror_mode": {
    "name": "ipython",
    "version": 3
   },
   "file_extension": ".py",
   "mimetype": "text/x-python",
   "name": "python",
   "nbconvert_exporter": "python",
   "pygments_lexer": "ipython3",
   "version": "3.9.0"
  }
 },
 "nbformat": 4,
 "nbformat_minor": 5
}
