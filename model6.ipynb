{
 "cells": [
  {
   "cell_type": "markdown",
   "id": "48baf523-e57b-498b-beef-2080c40ee923",
   "metadata": {},
   "source": [
    "# About"
   ]
  },
  {
   "cell_type": "markdown",
   "id": "863b446b-365b-46b5-be9f-7048c14ca122",
   "metadata": {},
   "source": [
    "#### This uses CNN with orignal image that is denoise using bilateral noise reduction. "
   ]
  },
  {
   "cell_type": "code",
   "execution_count": 1,
   "id": "f3e73f12-1027-41da-b4cc-e34853c0bacd",
   "metadata": {},
   "outputs": [],
   "source": [
    "TRAIN_PATH=\"CovidDataset6/train\"\n",
    "VAL_PATH=\"CovidDataset6/val\""
   ]
  },
  {
   "cell_type": "code",
   "execution_count": 12,
   "id": "05807df0-eaf8-45c6-b207-dbb6a8f53ca8",
   "metadata": {},
   "outputs": [],
   "source": [
    "import numpy as np\n",
    "import matplotlib.pyplot as plt\n",
    "import keras\n",
    "from keras.layers import *\n",
    "from keras.models import *\n",
    "from keras.preprocessing import image"
   ]
  },
  {
   "cell_type": "code",
   "execution_count": 13,
   "id": "77214a21-3f88-49f4-97c0-661841adef5e",
   "metadata": {},
   "outputs": [],
   "source": [
    "model=Sequential()\n",
    "model.add(Conv2D(32,kernel_size=(3,3),activation='relu',input_shape=(190,190,3)))\n",
    "model.add(Conv2D(64,kernel_size=(3,3),activation='relu'))\n",
    "model.add(MaxPooling2D(pool_size=(2,2)))\n",
    "model.add(Dropout(0.25))\n",
    "\n",
    "model.add(Conv2D(64,kernel_size=(3,3),activation='relu'))\n",
    "model.add(MaxPooling2D(pool_size=(2,2)))\n",
    "model.add(Dropout(0.25))\n",
    "\n",
    "\n",
    "model.add(Conv2D(128,kernel_size=(3,3),activation='relu'))\n",
    "model.add(MaxPooling2D(pool_size=(2,2)))\n",
    "model.add(Dropout(0.25))\n",
    "\n",
    "\n",
    "model.add(Flatten())\n",
    "model.add(Dense(64,activation='relu'))\n",
    "model.add(Dropout(0.5))\n",
    "model.add(Dense(1,activation='sigmoid'))\n",
    "\n",
    "\n",
    "model.compile(loss=keras.losses.binary_crossentropy,optimizer='adam',metrics=['accuracy'])\n"
   ]
  },
  {
   "cell_type": "code",
   "execution_count": 14,
   "id": "fda9d980-99eb-41a1-aa35-527db1d72f70",
   "metadata": {},
   "outputs": [
    {
     "name": "stdout",
     "output_type": "stream",
     "text": [
      "Model: \"sequential_1\"\n",
      "_________________________________________________________________\n",
      " Layer (type)                Output Shape              Param #   \n",
      "=================================================================\n",
      " conv2d_4 (Conv2D)           (None, 188, 188, 32)      896       \n",
      "                                                                 \n",
      " conv2d_5 (Conv2D)           (None, 186, 186, 64)      18496     \n",
      "                                                                 \n",
      " max_pooling2d_3 (MaxPooling  (None, 93, 93, 64)       0         \n",
      " 2D)                                                             \n",
      "                                                                 \n",
      " dropout_4 (Dropout)         (None, 93, 93, 64)        0         \n",
      "                                                                 \n",
      " conv2d_6 (Conv2D)           (None, 91, 91, 64)        36928     \n",
      "                                                                 \n",
      " max_pooling2d_4 (MaxPooling  (None, 45, 45, 64)       0         \n",
      " 2D)                                                             \n",
      "                                                                 \n",
      " dropout_5 (Dropout)         (None, 45, 45, 64)        0         \n",
      "                                                                 \n",
      " conv2d_7 (Conv2D)           (None, 43, 43, 128)       73856     \n",
      "                                                                 \n",
      " max_pooling2d_5 (MaxPooling  (None, 21, 21, 128)      0         \n",
      " 2D)                                                             \n",
      "                                                                 \n",
      " dropout_6 (Dropout)         (None, 21, 21, 128)       0         \n",
      "                                                                 \n",
      " flatten_1 (Flatten)         (None, 56448)             0         \n",
      "                                                                 \n",
      " dense_2 (Dense)             (None, 64)                3612736   \n",
      "                                                                 \n",
      " dropout_7 (Dropout)         (None, 64)                0         \n",
      "                                                                 \n",
      " dense_3 (Dense)             (None, 1)                 65        \n",
      "                                                                 \n",
      "=================================================================\n",
      "Total params: 3,742,977\n",
      "Trainable params: 3,742,977\n",
      "Non-trainable params: 0\n",
      "_________________________________________________________________\n"
     ]
    }
   ],
   "source": [
    "model.summary()"
   ]
  },
  {
   "cell_type": "markdown",
   "id": "2f55f65c-a37d-4da1-8a58-e1b33c9b18c9",
   "metadata": {},
   "source": [
    "##### This generates a dataset for training on images. The two folders namely covid and normal is automatically classified as two classes of output"
   ]
  },
  {
   "cell_type": "code",
   "execution_count": 15,
   "id": "e8129ca1-ab39-494c-ba4b-11cb66cb4057",
   "metadata": {},
   "outputs": [],
   "source": [
    "train_datagen=image.ImageDataGenerator(\n",
    "rescale=1./255,\n",
    "    shear_range=0.2,\n",
    "    zoom_range=0.2,\n",
    "    horizontal_flip=True\n",
    ")\n",
    "test_datagen=image.ImageDataGenerator(rescale=1./255)\n"
   ]
  },
  {
   "cell_type": "code",
   "execution_count": 16,
   "id": "4f0a5a92-28a9-4117-a4f5-650d735e255d",
   "metadata": {},
   "outputs": [
    {
     "name": "stdout",
     "output_type": "stream",
     "text": [
      "Found 224 images belonging to 2 classes.\n"
     ]
    }
   ],
   "source": [
    "train_generator=train_datagen.flow_from_directory(\n",
    "'CovidDataset6/train',\n",
    "    target_size=(190,190),\n",
    "    batch_size=32,\n",
    "    class_mode='binary'\n",
    ")"
   ]
  },
  {
   "cell_type": "code",
   "execution_count": 17,
   "id": "83cee29e-91f2-4169-a817-6752b5f3edeb",
   "metadata": {},
   "outputs": [
    {
     "data": {
      "text/plain": [
       "{'covid': 0, 'normal': 1}"
      ]
     },
     "execution_count": 17,
     "metadata": {},
     "output_type": "execute_result"
    }
   ],
   "source": [
    "train_generator.class_indices"
   ]
  },
  {
   "cell_type": "code",
   "execution_count": 18,
   "id": "59b04dcc-4eb4-4355-a618-452992755138",
   "metadata": {},
   "outputs": [
    {
     "name": "stdout",
     "output_type": "stream",
     "text": [
      "Found 60 images belonging to 2 classes.\n"
     ]
    }
   ],
   "source": [
    "validation_generator=test_datagen.flow_from_directory(\n",
    "'CovidDataset6/val',\n",
    "    target_size=(190,190),\n",
    "    batch_size=32,\n",
    "    class_mode='binary'\n",
    ")"
   ]
  },
  {
   "cell_type": "code",
   "execution_count": 19,
   "id": "6b005ab0-bdd7-49e6-8c56-9ef113e1bd49",
   "metadata": {},
   "outputs": [
    {
     "data": {
      "text/plain": [
       "{'covid': 0, 'normal': 1}"
      ]
     },
     "execution_count": 19,
     "metadata": {},
     "output_type": "execute_result"
    }
   ],
   "source": [
    "validation_generator.class_indices"
   ]
  },
  {
   "cell_type": "code",
   "execution_count": 20,
   "id": "fddc3256-66d2-4dde-b1ef-fedec629c881",
   "metadata": {},
   "outputs": [
    {
     "name": "stdout",
     "output_type": "stream",
     "text": [
      "Epoch 1/14\n",
      "7/7 [==============================] - 36s 5s/step - loss: 0.8793 - accuracy: 0.5089 - val_loss: 0.6917 - val_accuracy: 0.5000\n",
      "Epoch 2/14\n",
      "7/7 [==============================] - 31s 4s/step - loss: 0.6861 - accuracy: 0.5625 - val_loss: 0.6757 - val_accuracy: 0.5167\n",
      "Epoch 3/14\n",
      "7/7 [==============================] - 31s 4s/step - loss: 0.5420 - accuracy: 0.7455 - val_loss: 0.4326 - val_accuracy: 0.9667\n",
      "Epoch 4/14\n",
      "7/7 [==============================] - 31s 4s/step - loss: 0.4360 - accuracy: 0.8170 - val_loss: 0.2892 - val_accuracy: 0.9833\n",
      "Epoch 5/14\n",
      "7/7 [==============================] - 31s 4s/step - loss: 0.3615 - accuracy: 0.8482 - val_loss: 0.2935 - val_accuracy: 0.9667\n",
      "Epoch 6/14\n",
      "7/7 [==============================] - 31s 4s/step - loss: 0.2288 - accuracy: 0.9062 - val_loss: 0.1594 - val_accuracy: 0.9500\n",
      "Epoch 7/14\n",
      "7/7 [==============================] - 31s 4s/step - loss: 0.2623 - accuracy: 0.9152 - val_loss: 0.1045 - val_accuracy: 0.9667\n",
      "Epoch 8/14\n",
      "7/7 [==============================] - 31s 4s/step - loss: 0.2208 - accuracy: 0.9241 - val_loss: 0.0880 - val_accuracy: 1.0000\n",
      "Epoch 9/14\n",
      "7/7 [==============================] - 31s 4s/step - loss: 0.1366 - accuracy: 0.9464 - val_loss: 0.1047 - val_accuracy: 1.0000\n",
      "Epoch 10/14\n",
      "7/7 [==============================] - 31s 4s/step - loss: 0.1417 - accuracy: 0.9509 - val_loss: 0.0476 - val_accuracy: 0.9833\n",
      "Epoch 11/14\n",
      "7/7 [==============================] - 31s 4s/step - loss: 0.1400 - accuracy: 0.9420 - val_loss: 0.0494 - val_accuracy: 0.9833\n",
      "Epoch 12/14\n",
      "7/7 [==============================] - 32s 4s/step - loss: 0.1673 - accuracy: 0.9375 - val_loss: 0.0863 - val_accuracy: 0.9667\n",
      "Epoch 13/14\n",
      "7/7 [==============================] - 31s 4s/step - loss: 0.1852 - accuracy: 0.9286 - val_loss: 0.0863 - val_accuracy: 0.9667\n",
      "Epoch 14/14\n",
      "7/7 [==============================] - 31s 4s/step - loss: 0.1767 - accuracy: 0.9598 - val_loss: 0.0761 - val_accuracy: 0.9833\n"
     ]
    }
   ],
   "source": [
    "hist=model.fit(\n",
    "train_generator,\n",
    "    epochs=14,\n",
    "    validation_data=validation_generator,\n",
    "    validation_steps=2\n",
    ")"
   ]
  },
  {
   "cell_type": "code",
   "execution_count": 21,
   "id": "61e37d53-8d39-4a59-ac23-2ba816953d8f",
   "metadata": {},
   "outputs": [],
   "source": [
    "model.save('initial_model6.h5')"
   ]
  },
  {
   "cell_type": "code",
   "execution_count": null,
   "id": "b28dd6d2-872e-4880-bb26-abc572516a82",
   "metadata": {},
   "outputs": [],
   "source": []
  },
  {
   "cell_type": "code",
   "execution_count": null,
   "id": "d6cc5dfc-51a4-4e34-a2eb-c4567fea6266",
   "metadata": {},
   "outputs": [],
   "source": []
  }
 ],
 "metadata": {
  "kernelspec": {
   "display_name": "Python 3 (ipykernel)",
   "language": "python",
   "name": "python3"
  },
  "language_info": {
   "codemirror_mode": {
    "name": "ipython",
    "version": 3
   },
   "file_extension": ".py",
   "mimetype": "text/x-python",
   "name": "python",
   "nbconvert_exporter": "python",
   "pygments_lexer": "ipython3",
   "version": "3.9.0"
  }
 },
 "nbformat": 4,
 "nbformat_minor": 5
}
