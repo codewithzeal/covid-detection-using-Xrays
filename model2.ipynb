{
 "cells": [
  {
   "cell_type": "markdown",
   "id": "a50d1917-0323-4008-9abc-3f42c5b156bd",
   "metadata": {},
   "source": [
    "# About"
   ]
  },
  {
   "cell_type": "markdown",
   "id": "999e80fe-cfd3-403c-9b2c-0d5f3ab246e3",
   "metadata": {},
   "source": [
    "#### This dataset is based on CNN model using CLAHE filtered images from orignal images"
   ]
  },
  {
   "cell_type": "code",
   "execution_count": 2,
   "id": "c05d3397-a568-4f94-8f6a-31bc299d98a7",
   "metadata": {},
   "outputs": [],
   "source": [
    "TRAIN_PATH=\"CovidDataset2/train\"\n",
    "VAL_PATH=\"CovidDataset2/val\""
   ]
  },
  {
   "cell_type": "code",
   "execution_count": 1,
   "id": "e279ad4d-2be2-465c-a44c-b0f65ab701d1",
   "metadata": {},
   "outputs": [],
   "source": [
    "import numpy as np\n",
    "import matplotlib.pyplot as plt\n",
    "import keras\n",
    "from keras.layers import *\n",
    "from keras.models import *\n",
    "from keras.preprocessing import image"
   ]
  },
  {
   "cell_type": "code",
   "execution_count": 2,
   "id": "54d4263f-f879-486e-90c6-f8225cab8e3a",
   "metadata": {},
   "outputs": [],
   "source": [
    "model=Sequential()\n",
    "model.add(Conv2D(32,kernel_size=(3,3),activation='relu',input_shape=(190,190,3)))\n",
    "model.add(Conv2D(64,kernel_size=(3,3),activation='relu'))\n",
    "model.add(MaxPooling2D(pool_size=(2,2)))\n",
    "model.add(Dropout(0.25))\n",
    "\n",
    "model.add(Conv2D(64,kernel_size=(3,3),activation='relu'))\n",
    "model.add(MaxPooling2D(pool_size=(2,2)))\n",
    "model.add(Dropout(0.25))\n",
    "\n",
    "\n",
    "model.add(Conv2D(128,kernel_size=(3,3),activation='relu'))\n",
    "model.add(MaxPooling2D(pool_size=(2,2)))\n",
    "model.add(Dropout(0.25))\n",
    "\n",
    "\n",
    "model.add(Flatten())\n",
    "model.add(Dense(64,activation='relu'))\n",
    "model.add(Dropout(0.5))\n",
    "model.add(Dense(1,activation='sigmoid'))\n",
    "\n",
    "\n",
    "model.compile(loss=keras.losses.binary_crossentropy,optimizer='adam',metrics=['accuracy'])\n"
   ]
  },
  {
   "cell_type": "code",
   "execution_count": 3,
   "id": "9411f78f-612d-44dc-8aa4-1e58f48608a8",
   "metadata": {},
   "outputs": [
    {
     "name": "stdout",
     "output_type": "stream",
     "text": [
      "Model: \"sequential\"\n",
      "_________________________________________________________________\n",
      " Layer (type)                Output Shape              Param #   \n",
      "=================================================================\n",
      " conv2d (Conv2D)             (None, 188, 188, 32)      896       \n",
      "                                                                 \n",
      " conv2d_1 (Conv2D)           (None, 186, 186, 64)      18496     \n",
      "                                                                 \n",
      " max_pooling2d (MaxPooling2D  (None, 93, 93, 64)       0         \n",
      " )                                                               \n",
      "                                                                 \n",
      " dropout (Dropout)           (None, 93, 93, 64)        0         \n",
      "                                                                 \n",
      " conv2d_2 (Conv2D)           (None, 91, 91, 64)        36928     \n",
      "                                                                 \n",
      " max_pooling2d_1 (MaxPooling  (None, 45, 45, 64)       0         \n",
      " 2D)                                                             \n",
      "                                                                 \n",
      " dropout_1 (Dropout)         (None, 45, 45, 64)        0         \n",
      "                                                                 \n",
      " conv2d_3 (Conv2D)           (None, 43, 43, 128)       73856     \n",
      "                                                                 \n",
      " max_pooling2d_2 (MaxPooling  (None, 21, 21, 128)      0         \n",
      " 2D)                                                             \n",
      "                                                                 \n",
      " dropout_2 (Dropout)         (None, 21, 21, 128)       0         \n",
      "                                                                 \n",
      " flatten (Flatten)           (None, 56448)             0         \n",
      "                                                                 \n",
      " dense (Dense)               (None, 64)                3612736   \n",
      "                                                                 \n",
      " dropout_3 (Dropout)         (None, 64)                0         \n",
      "                                                                 \n",
      " dense_1 (Dense)             (None, 1)                 65        \n",
      "                                                                 \n",
      "=================================================================\n",
      "Total params: 3,742,977\n",
      "Trainable params: 3,742,977\n",
      "Non-trainable params: 0\n",
      "_________________________________________________________________\n"
     ]
    }
   ],
   "source": [
    "model.summary()"
   ]
  },
  {
   "cell_type": "markdown",
   "id": "640863e9-0071-4ad9-9361-799f7ccc270e",
   "metadata": {},
   "source": [
    "##### This generates a dataset for training on images. The two folders namely covid and normal is automatically classified as two classes of output"
   ]
  },
  {
   "cell_type": "code",
   "execution_count": 4,
   "id": "820d9af5-0f93-4ddd-aabf-2f936481960b",
   "metadata": {},
   "outputs": [],
   "source": [
    "train_datagen=image.ImageDataGenerator(\n",
    "rescale=1./255,\n",
    "    shear_range=0.2,\n",
    "    zoom_range=0.2,\n",
    "    horizontal_flip=True\n",
    ")\n",
    "test_datagen=image.ImageDataGenerator(rescale=1./255)\n"
   ]
  },
  {
   "cell_type": "code",
   "execution_count": 5,
   "id": "077f2b4e-6439-4a0c-a4fa-3f8f813b900f",
   "metadata": {},
   "outputs": [
    {
     "name": "stdout",
     "output_type": "stream",
     "text": [
      "Found 224 images belonging to 3 classes.\n"
     ]
    }
   ],
   "source": [
    "train_generator=train_datagen.flow_from_directory(\n",
    "'CovidDataset2/train',\n",
    "    target_size=(190,190),\n",
    "    batch_size=32,\n",
    "    class_mode='binary'\n",
    ")"
   ]
  },
  {
   "cell_type": "code",
   "execution_count": 6,
   "id": "5b5204a5-7d29-4590-bbcf-75e64f251628",
   "metadata": {},
   "outputs": [
    {
     "data": {
      "text/plain": [
       "{'.ipynb_checkpoints': 0, 'covid': 1, 'normal': 2}"
      ]
     },
     "execution_count": 6,
     "metadata": {},
     "output_type": "execute_result"
    }
   ],
   "source": [
    "train_generator.class_indices"
   ]
  },
  {
   "cell_type": "code",
   "execution_count": 7,
   "id": "3abdc19a-0e10-44c5-a372-7ad1af818b30",
   "metadata": {},
   "outputs": [
    {
     "name": "stdout",
     "output_type": "stream",
     "text": [
      "Found 60 images belonging to 3 classes.\n"
     ]
    }
   ],
   "source": [
    "validation_generator=test_datagen.flow_from_directory(\n",
    "'CovidDataset2/val',\n",
    "    target_size=(190,190),\n",
    "    batch_size=32,\n",
    "    class_mode='binary'\n",
    ")"
   ]
  },
  {
   "cell_type": "code",
   "execution_count": 8,
   "id": "c68204c7-74a1-4c01-a58d-9b8ef6756ee5",
   "metadata": {},
   "outputs": [
    {
     "data": {
      "text/plain": [
       "{'.ipynb_checkpoints': 0, 'covid': 1, 'normal': 2}"
      ]
     },
     "execution_count": 8,
     "metadata": {},
     "output_type": "execute_result"
    }
   ],
   "source": [
    "validation_generator.class_indices"
   ]
  },
  {
   "cell_type": "code",
   "execution_count": 9,
   "id": "a21ff6aa-d8d5-4bed-8698-6bc7c4df9b9e",
   "metadata": {},
   "outputs": [
    {
     "name": "stdout",
     "output_type": "stream",
     "text": [
      "Epoch 1/11\n",
      "7/7 [==============================] - 35s 5s/step - loss: -230.2439 - accuracy: 0.4464 - val_loss: -1102.5956 - val_accuracy: 0.5000\n",
      "Epoch 2/11\n",
      "7/7 [==============================] - 32s 4s/step - loss: -8520.9004 - accuracy: 0.5000 - val_loss: -28799.7051 - val_accuracy: 0.5000\n",
      "Epoch 3/11\n",
      "7/7 [==============================] - 32s 4s/step - loss: -106031.0547 - accuracy: 0.5000 - val_loss: -285262.1250 - val_accuracy: 0.5000\n",
      "Epoch 4/11\n",
      "7/7 [==============================] - 32s 4s/step - loss: -745464.3125 - accuracy: 0.5000 - val_loss: -1821679.5000 - val_accuracy: 0.5000\n",
      "Epoch 5/11\n",
      "7/7 [==============================] - 32s 4s/step - loss: -4229602.0000 - accuracy: 0.5000 - val_loss: -8665257.0000 - val_accuracy: 0.5000\n",
      "Epoch 6/11\n",
      "7/7 [==============================] - 32s 4s/step - loss: -17073334.0000 - accuracy: 0.5000 - val_loss: -33245612.0000 - val_accuracy: 0.5000\n",
      "Epoch 7/11\n",
      "7/7 [==============================] - 32s 4s/step - loss: -56988344.0000 - accuracy: 0.5000 - val_loss: -107791016.0000 - val_accuracy: 0.5000\n",
      "Epoch 8/11\n",
      "7/7 [==============================] - 32s 4s/step - loss: -168353552.0000 - accuracy: 0.5000 - val_loss: -305395840.0000 - val_accuracy: 0.5000\n",
      "Epoch 9/11\n",
      "7/7 [==============================] - 32s 5s/step - loss: -483498272.0000 - accuracy: 0.5000 - val_loss: -774539008.0000 - val_accuracy: 0.5000\n",
      "Epoch 10/11\n",
      "7/7 [==============================] - 32s 4s/step - loss: -1171637888.0000 - accuracy: 0.5000 - val_loss: -1797684992.0000 - val_accuracy: 0.5000\n",
      "Epoch 11/11\n",
      "7/7 [==============================] - 32s 4s/step - loss: -2569939712.0000 - accuracy: 0.5000 - val_loss: -3867075328.0000 - val_accuracy: 0.5000\n"
     ]
    }
   ],
   "source": [
    "hist=model.fit(\n",
    "train_generator,\n",
    "    epochs=11,\n",
    "    validation_data=validation_generator,\n",
    "    validation_steps=2\n",
    ")"
   ]
  },
  {
   "cell_type": "code",
   "execution_count": 12,
   "id": "cb8096f6-49f6-426a-beb9-fe32cd2d0948",
   "metadata": {},
   "outputs": [],
   "source": [
    "model.save('initial_model2.h5')"
   ]
  },
  {
   "cell_type": "code",
   "execution_count": null,
   "id": "ec550838-2999-4a67-a6f7-0df75708e57d",
   "metadata": {},
   "outputs": [],
   "source": []
  },
  {
   "cell_type": "code",
   "execution_count": null,
   "id": "2cf06bef-b73a-4fb3-862f-1c9833c9e6b4",
   "metadata": {},
   "outputs": [],
   "source": []
  },
  {
   "cell_type": "code",
   "execution_count": null,
   "id": "20877891-21e6-4244-8034-25aa32964d1f",
   "metadata": {},
   "outputs": [],
   "source": []
  }
 ],
 "metadata": {
  "kernelspec": {
   "display_name": "Python 3 (ipykernel)",
   "language": "python",
   "name": "python3"
  },
  "language_info": {
   "codemirror_mode": {
    "name": "ipython",
    "version": 3
   },
   "file_extension": ".py",
   "mimetype": "text/x-python",
   "name": "python",
   "nbconvert_exporter": "python",
   "pygments_lexer": "ipython3",
   "version": "3.9.0"
  }
 },
 "nbformat": 4,
 "nbformat_minor": 5
}
