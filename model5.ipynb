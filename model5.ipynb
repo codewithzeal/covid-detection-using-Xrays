{
 "cells": [
  {
   "cell_type": "markdown",
   "id": "999865ac-16f9-440d-b694-1979fdead0bd",
   "metadata": {},
   "source": [
    "# About"
   ]
  },
  {
   "cell_type": "markdown",
   "id": "5e63464e-53cf-4328-8475-d9ac07de0cfe",
   "metadata": {},
   "source": [
    "#### This uses CNN with CLHAE images that are denoised using bilateral noise reduction technique"
   ]
  },
  {
   "cell_type": "code",
   "execution_count": 1,
   "id": "20d9638a-7646-4b2c-949a-330d6ea26ba0",
   "metadata": {},
   "outputs": [],
   "source": [
    "TRAIN_PATH=\"CovidDataset5/train\"\n",
    "VAL_PATH=\"CovidDataset5/val\""
   ]
  },
  {
   "cell_type": "code",
   "execution_count": 12,
   "id": "3df6c569-7cb6-40e2-bd20-972a526985ae",
   "metadata": {},
   "outputs": [],
   "source": [
    "import numpy as np\n",
    "import matplotlib.pyplot as plt\n",
    "import keras\n",
    "from keras.layers import *\n",
    "from keras.models import *\n",
    "from keras.preprocessing import image"
   ]
  },
  {
   "cell_type": "code",
   "execution_count": 13,
   "id": "2616fe08-9245-41f5-a6c5-29933bbc4586",
   "metadata": {},
   "outputs": [],
   "source": [
    "model=Sequential()\n",
    "model.add(Conv2D(32,kernel_size=(3,3),activation='relu',input_shape=(190,190,3)))\n",
    "model.add(Conv2D(64,kernel_size=(3,3),activation='relu'))\n",
    "model.add(MaxPooling2D(pool_size=(2,2)))\n",
    "model.add(Dropout(0.25))\n",
    "\n",
    "model.add(Conv2D(64,kernel_size=(3,3),activation='relu'))\n",
    "model.add(MaxPooling2D(pool_size=(2,2)))\n",
    "model.add(Dropout(0.25))\n",
    "\n",
    "\n",
    "model.add(Conv2D(128,kernel_size=(3,3),activation='relu'))\n",
    "model.add(MaxPooling2D(pool_size=(2,2)))\n",
    "model.add(Dropout(0.25))\n",
    "\n",
    "\n",
    "model.add(Flatten())\n",
    "model.add(Dense(64,activation='relu'))\n",
    "model.add(Dropout(0.5))\n",
    "model.add(Dense(1,activation='sigmoid'))\n",
    "\n",
    "\n",
    "model.compile(loss=keras.losses.binary_crossentropy,optimizer='adam',metrics=['accuracy'])\n"
   ]
  },
  {
   "cell_type": "code",
   "execution_count": 14,
   "id": "f4c73951-8d2c-4b60-9e21-e15f707be98c",
   "metadata": {},
   "outputs": [
    {
     "name": "stdout",
     "output_type": "stream",
     "text": [
      "Model: \"sequential_1\"\n",
      "_________________________________________________________________\n",
      " Layer (type)                Output Shape              Param #   \n",
      "=================================================================\n",
      " conv2d_4 (Conv2D)           (None, 188, 188, 32)      896       \n",
      "                                                                 \n",
      " conv2d_5 (Conv2D)           (None, 186, 186, 64)      18496     \n",
      "                                                                 \n",
      " max_pooling2d_3 (MaxPooling  (None, 93, 93, 64)       0         \n",
      " 2D)                                                             \n",
      "                                                                 \n",
      " dropout_4 (Dropout)         (None, 93, 93, 64)        0         \n",
      "                                                                 \n",
      " conv2d_6 (Conv2D)           (None, 91, 91, 64)        36928     \n",
      "                                                                 \n",
      " max_pooling2d_4 (MaxPooling  (None, 45, 45, 64)       0         \n",
      " 2D)                                                             \n",
      "                                                                 \n",
      " dropout_5 (Dropout)         (None, 45, 45, 64)        0         \n",
      "                                                                 \n",
      " conv2d_7 (Conv2D)           (None, 43, 43, 128)       73856     \n",
      "                                                                 \n",
      " max_pooling2d_5 (MaxPooling  (None, 21, 21, 128)      0         \n",
      " 2D)                                                             \n",
      "                                                                 \n",
      " dropout_6 (Dropout)         (None, 21, 21, 128)       0         \n",
      "                                                                 \n",
      " flatten_1 (Flatten)         (None, 56448)             0         \n",
      "                                                                 \n",
      " dense_2 (Dense)             (None, 64)                3612736   \n",
      "                                                                 \n",
      " dropout_7 (Dropout)         (None, 64)                0         \n",
      "                                                                 \n",
      " dense_3 (Dense)             (None, 1)                 65        \n",
      "                                                                 \n",
      "=================================================================\n",
      "Total params: 3,742,977\n",
      "Trainable params: 3,742,977\n",
      "Non-trainable params: 0\n",
      "_________________________________________________________________\n"
     ]
    }
   ],
   "source": [
    "model.summary()"
   ]
  },
  {
   "cell_type": "markdown",
   "id": "9a8176d6-1bd7-4939-86e1-8876699e44ef",
   "metadata": {},
   "source": [
    "##### This generates a dataset for training on images. The two folders namely covid and normal is automatically classified as two classes of output"
   ]
  },
  {
   "cell_type": "code",
   "execution_count": 15,
   "id": "8e907e33-2dbc-4d81-a8cd-d2fd3577440f",
   "metadata": {},
   "outputs": [],
   "source": [
    "train_datagen=image.ImageDataGenerator(\n",
    "rescale=1./255,\n",
    "    shear_range=0.2,\n",
    "    zoom_range=0.2,\n",
    "    horizontal_flip=True\n",
    ")\n",
    "test_datagen=image.ImageDataGenerator(rescale=1./255)\n"
   ]
  },
  {
   "cell_type": "code",
   "execution_count": 16,
   "id": "6571cf14-f683-484b-b401-b4bbea3dbaa7",
   "metadata": {},
   "outputs": [
    {
     "name": "stdout",
     "output_type": "stream",
     "text": [
      "Found 224 images belonging to 2 classes.\n"
     ]
    }
   ],
   "source": [
    "train_generator=train_datagen.flow_from_directory(\n",
    "'CovidDataset5/train',\n",
    "    target_size=(190,190),\n",
    "    batch_size=32,\n",
    "    class_mode='binary'\n",
    ")"
   ]
  },
  {
   "cell_type": "code",
   "execution_count": 17,
   "id": "6f448798-4cba-4214-b094-5802c4b15a47",
   "metadata": {},
   "outputs": [
    {
     "data": {
      "text/plain": [
       "{'covid': 0, 'normal': 1}"
      ]
     },
     "execution_count": 17,
     "metadata": {},
     "output_type": "execute_result"
    }
   ],
   "source": [
    "train_generator.class_indices"
   ]
  },
  {
   "cell_type": "code",
   "execution_count": 18,
   "id": "cd76ab74-f12e-41b2-b5f8-9b0fb3156cad",
   "metadata": {},
   "outputs": [
    {
     "name": "stdout",
     "output_type": "stream",
     "text": [
      "Found 60 images belonging to 2 classes.\n"
     ]
    }
   ],
   "source": [
    "validation_generator=test_datagen.flow_from_directory(\n",
    "'CovidDataset5/val',\n",
    "    target_size=(190,190),\n",
    "    batch_size=32,\n",
    "    class_mode='binary'\n",
    ")"
   ]
  },
  {
   "cell_type": "code",
   "execution_count": 19,
   "id": "930754e9-db18-45f6-ba52-f3b8d741a782",
   "metadata": {},
   "outputs": [
    {
     "data": {
      "text/plain": [
       "{'covid': 0, 'normal': 1}"
      ]
     },
     "execution_count": 19,
     "metadata": {},
     "output_type": "execute_result"
    }
   ],
   "source": [
    "validation_generator.class_indices"
   ]
  },
  {
   "cell_type": "code",
   "execution_count": 21,
   "id": "b1241965-b20e-4832-b29e-68928136f70f",
   "metadata": {},
   "outputs": [
    {
     "name": "stdout",
     "output_type": "stream",
     "text": [
      "Epoch 1/14\n",
      "7/7 [==============================] - 25s 4s/step - loss: 0.6984 - accuracy: 0.5625 - val_loss: 0.6788 - val_accuracy: 0.7000\n",
      "Epoch 2/14\n",
      "7/7 [==============================] - 24s 3s/step - loss: 0.6433 - accuracy: 0.5804 - val_loss: 0.6309 - val_accuracy: 0.8000\n",
      "Epoch 3/14\n",
      "7/7 [==============================] - 24s 3s/step - loss: 0.5496 - accuracy: 0.7545 - val_loss: 0.4497 - val_accuracy: 0.9333\n",
      "Epoch 4/14\n",
      "7/7 [==============================] - 24s 3s/step - loss: 0.4438 - accuracy: 0.8036 - val_loss: 0.4459 - val_accuracy: 1.0000\n",
      "Epoch 5/14\n",
      "7/7 [==============================] - 24s 3s/step - loss: 0.3560 - accuracy: 0.8571 - val_loss: 0.1784 - val_accuracy: 0.9833\n",
      "Epoch 6/14\n",
      "7/7 [==============================] - 25s 4s/step - loss: 0.2418 - accuracy: 0.9062 - val_loss: 0.1075 - val_accuracy: 1.0000\n",
      "Epoch 7/14\n",
      "7/7 [==============================] - 24s 3s/step - loss: 0.1919 - accuracy: 0.9330 - val_loss: 0.0883 - val_accuracy: 1.0000\n",
      "Epoch 8/14\n",
      "7/7 [==============================] - 24s 3s/step - loss: 0.1197 - accuracy: 0.9688 - val_loss: 0.0747 - val_accuracy: 0.9833\n",
      "Epoch 9/14\n",
      "7/7 [==============================] - 24s 3s/step - loss: 0.0596 - accuracy: 0.9866 - val_loss: 0.0119 - val_accuracy: 1.0000\n",
      "Epoch 10/14\n",
      "7/7 [==============================] - 24s 3s/step - loss: 0.0916 - accuracy: 0.9732 - val_loss: 0.0596 - val_accuracy: 0.9833\n",
      "Epoch 11/14\n",
      "7/7 [==============================] - 24s 3s/step - loss: 0.1127 - accuracy: 0.9598 - val_loss: 0.0305 - val_accuracy: 0.9833\n",
      "Epoch 12/14\n",
      "7/7 [==============================] - 24s 3s/step - loss: 0.1800 - accuracy: 0.9420 - val_loss: 0.0459 - val_accuracy: 0.9833\n",
      "Epoch 13/14\n",
      "7/7 [==============================] - 28s 4s/step - loss: 0.0814 - accuracy: 0.9866 - val_loss: 0.0672 - val_accuracy: 0.9833\n",
      "Epoch 14/14\n",
      "7/7 [==============================] - 29s 4s/step - loss: 0.0581 - accuracy: 0.9777 - val_loss: 0.0201 - val_accuracy: 0.9833\n"
     ]
    }
   ],
   "source": [
    "hist=model.fit(\n",
    "train_generator,\n",
    "    epochs=14,\n",
    "    validation_data=validation_generator,\n",
    "    validation_steps=2\n",
    ")"
   ]
  },
  {
   "cell_type": "code",
   "execution_count": 11,
   "id": "28bf9999-2ec8-4603-921a-e0650e986397",
   "metadata": {},
   "outputs": [],
   "source": [
    "model.save('initial_model5.h5')"
   ]
  },
  {
   "cell_type": "code",
   "execution_count": null,
   "id": "9274eb3b-8ab2-4fdf-8f69-958ea0829a81",
   "metadata": {},
   "outputs": [],
   "source": []
  },
  {
   "cell_type": "code",
   "execution_count": null,
   "id": "624027aa-0271-4145-8284-4ad429c3449d",
   "metadata": {},
   "outputs": [],
   "source": []
  }
 ],
 "metadata": {
  "kernelspec": {
   "display_name": "Python 3 (ipykernel)",
   "language": "python",
   "name": "python3"
  },
  "language_info": {
   "codemirror_mode": {
    "name": "ipython",
    "version": 3
   },
   "file_extension": ".py",
   "mimetype": "text/x-python",
   "name": "python",
   "nbconvert_exporter": "python",
   "pygments_lexer": "ipython3",
   "version": "3.9.0"
  }
 },
 "nbformat": 4,
 "nbformat_minor": 5
}
