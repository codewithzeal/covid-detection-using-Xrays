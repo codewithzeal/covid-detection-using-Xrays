{
 "cells": [
  {
   "cell_type": "markdown",
   "id": "8d77303d-64d0-42d8-96d3-fd8705513f16",
   "metadata": {},
   "source": [
    "# About"
   ]
  },
  {
   "cell_type": "markdown",
   "id": "668cb8c1-f773-4366-b75c-8ab1e1f11489",
   "metadata": {},
   "source": [
    "#### This model uses CNN with orignal dataset which is smoothed using Fourier smoothing"
   ]
  },
  {
   "cell_type": "code",
   "execution_count": 1,
   "id": "8ed81c30-a5b5-450e-a1e3-3967cc70d16c",
   "metadata": {},
   "outputs": [],
   "source": [
    "TRAIN_PATH=\"CovidDataset3/train\"\n",
    "VAL_PATH=\"CovidDataset3/val\""
   ]
  },
  {
   "cell_type": "code",
   "execution_count": 1,
   "id": "b38bf9ea-ed9d-4e7b-b229-2dd3f98cb99d",
   "metadata": {},
   "outputs": [],
   "source": [
    "import numpy as np\n",
    "import matplotlib.pyplot as plt\n",
    "import keras\n",
    "from keras.layers import *\n",
    "from keras.models import *\n",
    "from keras.preprocessing import image"
   ]
  },
  {
   "cell_type": "code",
   "execution_count": 2,
   "id": "ae9dad4a-8168-4309-b4fa-e621748d6241",
   "metadata": {},
   "outputs": [],
   "source": [
    "model=Sequential()\n",
    "model.add(Conv2D(32,kernel_size=(3,3),activation='relu',input_shape=(190,190,3)))\n",
    "model.add(Conv2D(64,kernel_size=(3,3),activation='relu'))\n",
    "model.add(MaxPooling2D(pool_size=(2,2)))\n",
    "model.add(Dropout(0.25))\n",
    "\n",
    "model.add(Conv2D(64,kernel_size=(3,3),activation='relu'))\n",
    "model.add(MaxPooling2D(pool_size=(2,2)))\n",
    "model.add(Dropout(0.25))\n",
    "\n",
    "\n",
    "model.add(Conv2D(128,kernel_size=(3,3),activation='relu'))\n",
    "model.add(MaxPooling2D(pool_size=(2,2)))\n",
    "model.add(Dropout(0.25))\n",
    "\n",
    "\n",
    "model.add(Flatten())\n",
    "model.add(Dense(64,activation='relu'))\n",
    "model.add(Dropout(0.5))\n",
    "model.add(Dense(1,activation='sigmoid'))\n",
    "\n",
    "\n",
    "model.compile(loss=keras.losses.binary_crossentropy,optimizer='adam',metrics=['accuracy'])\n"
   ]
  },
  {
   "cell_type": "code",
   "execution_count": 3,
   "id": "1f57bb30-cccc-4587-81cd-132f3a6092a1",
   "metadata": {},
   "outputs": [
    {
     "name": "stdout",
     "output_type": "stream",
     "text": [
      "Model: \"sequential\"\n",
      "_________________________________________________________________\n",
      " Layer (type)                Output Shape              Param #   \n",
      "=================================================================\n",
      " conv2d (Conv2D)             (None, 188, 188, 32)      896       \n",
      "                                                                 \n",
      " conv2d_1 (Conv2D)           (None, 186, 186, 64)      18496     \n",
      "                                                                 \n",
      " max_pooling2d (MaxPooling2D  (None, 93, 93, 64)       0         \n",
      " )                                                               \n",
      "                                                                 \n",
      " dropout (Dropout)           (None, 93, 93, 64)        0         \n",
      "                                                                 \n",
      " conv2d_2 (Conv2D)           (None, 91, 91, 64)        36928     \n",
      "                                                                 \n",
      " max_pooling2d_1 (MaxPooling  (None, 45, 45, 64)       0         \n",
      " 2D)                                                             \n",
      "                                                                 \n",
      " dropout_1 (Dropout)         (None, 45, 45, 64)        0         \n",
      "                                                                 \n",
      " conv2d_3 (Conv2D)           (None, 43, 43, 128)       73856     \n",
      "                                                                 \n",
      " max_pooling2d_2 (MaxPooling  (None, 21, 21, 128)      0         \n",
      " 2D)                                                             \n",
      "                                                                 \n",
      " dropout_2 (Dropout)         (None, 21, 21, 128)       0         \n",
      "                                                                 \n",
      " flatten (Flatten)           (None, 56448)             0         \n",
      "                                                                 \n",
      " dense (Dense)               (None, 64)                3612736   \n",
      "                                                                 \n",
      " dropout_3 (Dropout)         (None, 64)                0         \n",
      "                                                                 \n",
      " dense_1 (Dense)             (None, 1)                 65        \n",
      "                                                                 \n",
      "=================================================================\n",
      "Total params: 3,742,977\n",
      "Trainable params: 3,742,977\n",
      "Non-trainable params: 0\n",
      "_________________________________________________________________\n"
     ]
    }
   ],
   "source": [
    "model.summary()"
   ]
  },
  {
   "cell_type": "markdown",
   "id": "7fd8f56b-80ba-4b21-b06f-793bc97b9626",
   "metadata": {},
   "source": [
    "##### This generates a dataset for training on images. The two folders namely covid and normal is automatically classified as two classes of output"
   ]
  },
  {
   "cell_type": "code",
   "execution_count": 4,
   "id": "b19f9efe-7ba2-4165-9f8a-cac5322e0813",
   "metadata": {},
   "outputs": [],
   "source": [
    "train_datagen=image.ImageDataGenerator(\n",
    "rescale=1./255,\n",
    "    shear_range=0.2,\n",
    "    zoom_range=0.2,\n",
    "    horizontal_flip=True\n",
    ")\n",
    "test_datagen=image.ImageDataGenerator(rescale=1./255)\n"
   ]
  },
  {
   "cell_type": "code",
   "execution_count": 5,
   "id": "78efa93a-a186-49eb-b32e-ed5b05595865",
   "metadata": {},
   "outputs": [
    {
     "name": "stdout",
     "output_type": "stream",
     "text": [
      "Found 224 images belonging to 2 classes.\n"
     ]
    }
   ],
   "source": [
    "train_generator=train_datagen.flow_from_directory(\n",
    "'CovidDataset3/train',\n",
    "    target_size=(190,190),\n",
    "    batch_size=32,\n",
    "    class_mode='binary'\n",
    ")"
   ]
  },
  {
   "cell_type": "code",
   "execution_count": 6,
   "id": "e2179fd9-91b9-436b-ae13-41bdcbd4c87e",
   "metadata": {},
   "outputs": [
    {
     "data": {
      "text/plain": [
       "{'covid': 0, 'normal': 1}"
      ]
     },
     "execution_count": 6,
     "metadata": {},
     "output_type": "execute_result"
    }
   ],
   "source": [
    "train_generator.class_indices"
   ]
  },
  {
   "cell_type": "code",
   "execution_count": 7,
   "id": "e0b42d20-5870-4e3d-b1db-25cfc3da2c4a",
   "metadata": {},
   "outputs": [
    {
     "name": "stdout",
     "output_type": "stream",
     "text": [
      "Found 60 images belonging to 2 classes.\n"
     ]
    }
   ],
   "source": [
    "validation_generator=test_datagen.flow_from_directory(\n",
    "'CovidDataset3/val',\n",
    "    target_size=(190,190),\n",
    "    batch_size=32,\n",
    "    class_mode='binary'\n",
    ")"
   ]
  },
  {
   "cell_type": "code",
   "execution_count": 8,
   "id": "ec317c3d-d8d3-4e56-bb9f-07d41bcd6ef1",
   "metadata": {},
   "outputs": [
    {
     "data": {
      "text/plain": [
       "{'covid': 0, 'normal': 1}"
      ]
     },
     "execution_count": 8,
     "metadata": {},
     "output_type": "execute_result"
    }
   ],
   "source": [
    "validation_generator.class_indices"
   ]
  },
  {
   "cell_type": "code",
   "execution_count": 9,
   "id": "8cfea272-da45-4a62-a2fa-867884ddc825",
   "metadata": {},
   "outputs": [
    {
     "name": "stdout",
     "output_type": "stream",
     "text": [
      "Epoch 1/14\n",
      "7/7 [==============================] - 35s 5s/step - loss: 1.7026 - accuracy: 0.4955 - val_loss: 0.6975 - val_accuracy: 0.5000\n",
      "Epoch 2/14\n",
      "7/7 [==============================] - 31s 4s/step - loss: 0.6835 - accuracy: 0.5625 - val_loss: 0.6826 - val_accuracy: 0.9167\n",
      "Epoch 3/14\n",
      "7/7 [==============================] - 31s 4s/step - loss: 0.6315 - accuracy: 0.6786 - val_loss: 0.6325 - val_accuracy: 0.7000\n",
      "Epoch 4/14\n",
      "7/7 [==============================] - 31s 4s/step - loss: 0.4679 - accuracy: 0.7679 - val_loss: 0.4288 - val_accuracy: 0.8500\n",
      "Epoch 5/14\n",
      "7/7 [==============================] - 32s 5s/step - loss: 0.3819 - accuracy: 0.8393 - val_loss: 0.2864 - val_accuracy: 0.9333\n",
      "Epoch 6/14\n",
      "7/7 [==============================] - 32s 4s/step - loss: 0.3111 - accuracy: 0.8884 - val_loss: 0.2194 - val_accuracy: 0.9667\n",
      "Epoch 7/14\n",
      "7/7 [==============================] - 33s 5s/step - loss: 0.2073 - accuracy: 0.9286 - val_loss: 0.1107 - val_accuracy: 0.9667\n",
      "Epoch 8/14\n",
      "7/7 [==============================] - 33s 5s/step - loss: 0.1362 - accuracy: 0.9598 - val_loss: 0.0749 - val_accuracy: 0.9667\n",
      "Epoch 9/14\n",
      "7/7 [==============================] - 30s 4s/step - loss: 0.1857 - accuracy: 0.9196 - val_loss: 0.1047 - val_accuracy: 0.9667\n",
      "Epoch 10/14\n",
      "7/7 [==============================] - 33s 5s/step - loss: 0.1410 - accuracy: 0.9420 - val_loss: 0.0770 - val_accuracy: 1.0000\n",
      "Epoch 11/14\n",
      "7/7 [==============================] - 32s 4s/step - loss: 0.1892 - accuracy: 0.9152 - val_loss: 0.0891 - val_accuracy: 0.9667\n",
      "Epoch 12/14\n",
      "7/7 [==============================] - 35s 5s/step - loss: 0.1487 - accuracy: 0.9688 - val_loss: 0.1691 - val_accuracy: 0.9833\n",
      "Epoch 13/14\n",
      "7/7 [==============================] - 36s 5s/step - loss: 0.1347 - accuracy: 0.9598 - val_loss: 0.0492 - val_accuracy: 0.9667\n",
      "Epoch 14/14\n",
      "7/7 [==============================] - 34s 5s/step - loss: 0.1478 - accuracy: 0.9420 - val_loss: 0.0662 - val_accuracy: 0.9833\n"
     ]
    }
   ],
   "source": [
    "hist=model.fit(\n",
    "train_generator,\n",
    "    epochs=14,\n",
    "    validation_data=validation_generator,\n",
    "    validation_steps=2\n",
    ")"
   ]
  },
  {
   "cell_type": "code",
   "execution_count": null,
   "id": "276925aa-ad7d-40e8-9e79-9be8efa9d726",
   "metadata": {},
   "outputs": [],
   "source": [
    "model.save('initial_model3.h5')"
   ]
  },
  {
   "cell_type": "code",
   "execution_count": null,
   "id": "2fc29f4a-7814-475a-8d33-583aa89ba853",
   "metadata": {},
   "outputs": [],
   "source": []
  },
  {
   "cell_type": "code",
   "execution_count": null,
   "id": "7e58b6ca-bf8c-474d-97d0-a52ae10ef05a",
   "metadata": {},
   "outputs": [],
   "source": []
  },
  {
   "cell_type": "code",
   "execution_count": null,
   "id": "87b3eb2e-8323-47f1-9553-1443d7eb4bca",
   "metadata": {},
   "outputs": [],
   "source": []
  }
 ],
 "metadata": {
  "kernelspec": {
   "display_name": "Python 3 (ipykernel)",
   "language": "python",
   "name": "python3"
  },
  "language_info": {
   "codemirror_mode": {
    "name": "ipython",
    "version": 3
   },
   "file_extension": ".py",
   "mimetype": "text/x-python",
   "name": "python",
   "nbconvert_exporter": "python",
   "pygments_lexer": "ipython3",
   "version": "3.9.0"
  }
 },
 "nbformat": 4,
 "nbformat_minor": 5
}
