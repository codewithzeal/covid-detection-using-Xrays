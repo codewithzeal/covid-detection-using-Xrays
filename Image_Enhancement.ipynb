{
 "cells": [
  {
   "cell_type": "markdown",
   "id": "1800047e-9995-4ecb-80fa-834f8fd0f66e",
   "metadata": {},
   "source": [
    "# Introduction"
   ]
  },
  {
   "cell_type": "markdown",
   "id": "f9440cc5-ce4c-4b52-bf65-890bdb4b6fd3",
   "metadata": {},
   "source": [
    "This code helps you to generate datasets from orignal dataset. We can apply fourier smoothing, CLAHE, and bilateral noise reduction. Your can generate various datasets based on image operations you choose. For example we can create covidDataset2 which has all CLAHE filtered images. So for input use covidDataset and for output put folder name as covidDatset2. You need to create these folder before hand. For thr project create folders like covidDataset1, covidDataset2, covidDataset3,.....,covidDataset7. "
   ]
  },
  {
   "cell_type": "code",
   "execution_count": null,
   "id": "abdd6fcb-8287-45f0-8b3b-319467f2454c",
   "metadata": {},
   "outputs": [],
   "source": [
    "import numpy as np\n",
    "import cv2\n",
    "from matplotlib import pyplot as plt\n",
    "import numpy as np\n",
    "import os"
   ]
  },
  {
   "cell_type": "markdown",
   "id": "5f7fece2-3a12-403b-949b-581982628e13",
   "metadata": {},
   "source": [
    "# Fourier Smoothing"
   ]
  },
  {
   "cell_type": "code",
   "execution_count": 42,
   "id": "00e9aac1-3d2d-40e6-828a-ff73b802fdee",
   "metadata": {},
   "outputs": [],
   "source": [
    "import cv2\n",
    "def operate(val,b):\n",
    "    img = cv2.imread(('covidDataset_Your_number'+val+b),0)\n",
    "    if(img.shape[0])%2!=0:\n",
    "        img=np.pad(img, ((1,0),(0,0)), 'constant')\n",
    "    if(img.shape[1])%2!=0:\n",
    "        img=np.pad(img, ((0,0),(0,1)), 'constant')\n",
    "    dct = cv2.dft(np.float32(img))\n",
    "    dct_shift = np.fft.fftshift(dct)\n",
    "    magnitude_spectrum = 20 * np.log(cv2.magnitude(dct_shift[:, :], dct_shift[:, :]))\n",
    "    rows, cols = img.shape\n",
    "    crow, ccol = int(rows / 2), int(cols / 2)\n",
    "    mask = (1/(rows*cols))*np.ones((rows, cols), np.uint8)\n",
    "    r = 800\n",
    "    center = [crow, ccol]\n",
    "    x, y = np.ogrid[:rows, :cols]\n",
    "    mask_area = (x - center[0]) ** 2 + (y - center[1]) ** 2 >= r*r\n",
    "    mask[mask_area] = 0\n",
    "    fshift = dct_shift * mask\n",
    "    fshift_mask_mag = 20 * np.log(cv2.magnitude(fshift[:, :], fshift[:, :]))\n",
    "    f_ishift = np.fft.ifftshift(fshift)\n",
    "    img_back = cv2.idft(f_ishift)\n",
    "    img_back = cv2.magnitude(img_back[:,:], img_back[:,:])\n",
    "    cv2.imwrite('covidDataset_your_number'+val+b,img_back)"
   ]
  },
  {
   "cell_type": "markdown",
   "id": "eaa8ad11-801d-4876-9fec-e386c9eea261",
   "metadata": {},
   "source": [
    "# Bilateral noise reduction "
   ]
  },
  {
   "cell_type": "code",
   "execution_count": 15,
   "id": "79f5a44b-4235-4b16-acf8-fb0ce0699d03",
   "metadata": {},
   "outputs": [],
   "source": [
    "def operate2(val,b):\n",
    "    image = cv2.imread(('covidDataset_Your_number'+val+b),0) # load an image\n",
    "    img_new=cv2.bilateralFilter(image, 15, 75, 75)\n",
    "    cv2.imwrite('covidDataset_yourNumber'+val+b,img_new)"
   ]
  },
  {
   "cell_type": "markdown",
   "id": "a3c68513-6870-407a-9cf3-b820aeceeb80",
   "metadata": {},
   "source": [
    "# CLAHE function"
   ]
  },
  {
   "cell_type": "code",
   "execution_count": null,
   "id": "8e0d42f6-3dbe-446b-9f2f-4bed4b226dad",
   "metadata": {},
   "outputs": [],
   "source": [
    "def operate3(val,b):\n",
    "    img = cv.imread(('covidDataset_Your_number'+val+b),0) # load an image\n",
    "    clahe=cv.createCLAHE(clipLimit=4.0, tileGridSize=(8,8))\n",
    "    img_back=clahe.apply(img)\n",
    "    cv2.imwrite('covidDataset_your_number'+val+b,img_back)"
   ]
  },
  {
   "cell_type": "markdown",
   "id": "64e2f2cd-07a2-45d7-8dd0-6844bb20385b",
   "metadata": {},
   "source": [
    "# Creating files"
   ]
  },
  {
   "cell_type": "code",
   "execution_count": 16,
   "id": "51fe8d7f-a499-445b-bce5-4d55faff42a1",
   "metadata": {},
   "outputs": [],
   "source": [
    "import os\n",
    "arr = os.listdir('covidDataset_your_number/val/covid')# your directory to read images from\n",
    "for x in arr:\n",
    "    operate2('/val/covid/',x)# use operation 2 and pass the relative path of your output folder that you create"
   ]
  },
  {
   "cell_type": "code",
   "execution_count": 17,
   "id": "d64d7d2d-0fe2-420e-8dbe-900db03c17aa",
   "metadata": {},
   "outputs": [],
   "source": [
    "import os\n",
    "arr = os.listdir('covidDataset_your_number/val/normal')\n",
    "for x in arr:\n",
    "    operate2('/val/normal/',x)"
   ]
  },
  {
   "cell_type": "code",
   "execution_count": 18,
   "id": "29f72a53-a330-4906-8942-17c9205cec0f",
   "metadata": {},
   "outputs": [],
   "source": [
    "import os\n",
    "arr = os.listdir('covidDataset_your_number/train/covid')\n",
    "for x in arr:\n",
    "    operate2('/train/covid/',x)"
   ]
  },
  {
   "cell_type": "code",
   "execution_count": 19,
   "id": "d33b9442-5f3c-478a-8cbd-67e17f65f173",
   "metadata": {},
   "outputs": [],
   "source": [
    "import os\n",
    "arr = os.listdir('covidDataset_your_number/train/normal')\n",
    "for x in arr:\n",
    "    operate2('/train/normal/',x)"
   ]
  },
  {
   "cell_type": "code",
   "execution_count": null,
   "id": "89f2ab10-2e49-4742-97f5-b638a284dfaf",
   "metadata": {},
   "outputs": [],
   "source": []
  }
 ],
 "metadata": {
  "kernelspec": {
   "display_name": "Python 3 (ipykernel)",
   "language": "python",
   "name": "python3"
  },
  "language_info": {
   "codemirror_mode": {
    "name": "ipython",
    "version": 3
   },
   "file_extension": ".py",
   "mimetype": "text/x-python",
   "name": "python",
   "nbconvert_exporter": "python",
   "pygments_lexer": "ipython3",
   "version": "3.9.0"
  }
 },
 "nbformat": 4,
 "nbformat_minor": 5
}
