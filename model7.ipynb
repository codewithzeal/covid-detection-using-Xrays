{
 "cells": [
  {
   "cell_type": "markdown",
   "id": "2969026a-0791-4f9e-938d-3e092cbcc3c2",
   "metadata": {},
   "source": [
    "# About"
   ]
  },
  {
   "cell_type": "markdown",
   "id": "3ea0e5b0-1bcc-4059-90a7-5cd641581e4c",
   "metadata": {},
   "source": [
    "#### This uses CNN with highboosted images"
   ]
  },
  {
   "cell_type": "code",
   "execution_count": 1,
   "id": "e1713e89-7d85-4b58-984c-4dfaffc89001",
   "metadata": {},
   "outputs": [],
   "source": [
    "TRAIN_PATH=\"CovidDataset7/train\"\n",
    "VAL_PATH=\"CovidDataset7/val\""
   ]
  },
  {
   "cell_type": "code",
   "execution_count": 2,
   "id": "3806f772-a093-4593-92ea-841421903170",
   "metadata": {},
   "outputs": [],
   "source": [
    "import numpy as np\n",
    "import matplotlib.pyplot as plt\n",
    "import keras\n",
    "from keras.layers import *\n",
    "from keras.models import *\n",
    "from keras.preprocessing import image"
   ]
  },
  {
   "cell_type": "code",
   "execution_count": 3,
   "id": "4164df31-fd54-4a37-8584-e4101ebf97e3",
   "metadata": {},
   "outputs": [],
   "source": [
    "model=Sequential()\n",
    "model.add(Conv2D(32,kernel_size=(3,3),activation='relu',input_shape=(190,190,3)))\n",
    "model.add(Conv2D(64,kernel_size=(3,3),activation='relu'))\n",
    "model.add(MaxPooling2D(pool_size=(2,2)))\n",
    "model.add(Dropout(0.25))\n",
    "\n",
    "model.add(Conv2D(64,kernel_size=(3,3),activation='relu'))\n",
    "model.add(MaxPooling2D(pool_size=(2,2)))\n",
    "model.add(Dropout(0.25))\n",
    "\n",
    "\n",
    "model.add(Conv2D(128,kernel_size=(3,3),activation='relu'))\n",
    "model.add(MaxPooling2D(pool_size=(2,2)))\n",
    "model.add(Dropout(0.25))\n",
    "\n",
    "\n",
    "model.add(Flatten())\n",
    "model.add(Dense(64,activation='relu'))\n",
    "model.add(Dropout(0.5))\n",
    "model.add(Dense(1,activation='sigmoid'))\n",
    "\n",
    "\n",
    "model.compile(loss=keras.losses.binary_crossentropy,optimizer='adam',metrics=['accuracy'])\n"
   ]
  },
  {
   "cell_type": "code",
   "execution_count": 4,
   "id": "763aa594-b5a2-45b0-a17b-bd667c6f4c6d",
   "metadata": {},
   "outputs": [
    {
     "name": "stdout",
     "output_type": "stream",
     "text": [
      "Model: \"sequential\"\n",
      "_________________________________________________________________\n",
      " Layer (type)                Output Shape              Param #   \n",
      "=================================================================\n",
      " conv2d (Conv2D)             (None, 188, 188, 32)      896       \n",
      "                                                                 \n",
      " conv2d_1 (Conv2D)           (None, 186, 186, 64)      18496     \n",
      "                                                                 \n",
      " max_pooling2d (MaxPooling2D  (None, 93, 93, 64)       0         \n",
      " )                                                               \n",
      "                                                                 \n",
      " dropout (Dropout)           (None, 93, 93, 64)        0         \n",
      "                                                                 \n",
      " conv2d_2 (Conv2D)           (None, 91, 91, 64)        36928     \n",
      "                                                                 \n",
      " max_pooling2d_1 (MaxPooling  (None, 45, 45, 64)       0         \n",
      " 2D)                                                             \n",
      "                                                                 \n",
      " dropout_1 (Dropout)         (None, 45, 45, 64)        0         \n",
      "                                                                 \n",
      " conv2d_3 (Conv2D)           (None, 43, 43, 128)       73856     \n",
      "                                                                 \n",
      " max_pooling2d_2 (MaxPooling  (None, 21, 21, 128)      0         \n",
      " 2D)                                                             \n",
      "                                                                 \n",
      " dropout_2 (Dropout)         (None, 21, 21, 128)       0         \n",
      "                                                                 \n",
      " flatten (Flatten)           (None, 56448)             0         \n",
      "                                                                 \n",
      " dense (Dense)               (None, 64)                3612736   \n",
      "                                                                 \n",
      " dropout_3 (Dropout)         (None, 64)                0         \n",
      "                                                                 \n",
      " dense_1 (Dense)             (None, 1)                 65        \n",
      "                                                                 \n",
      "=================================================================\n",
      "Total params: 3,742,977\n",
      "Trainable params: 3,742,977\n",
      "Non-trainable params: 0\n",
      "_________________________________________________________________\n"
     ]
    }
   ],
   "source": [
    "model.summary()"
   ]
  },
  {
   "cell_type": "markdown",
   "id": "7905ef83-4806-4474-b9a3-fdcf13c16111",
   "metadata": {},
   "source": [
    "##### This generates a dataset for training on images. The two folders namely covid and normal is automatically classified as two classes of output"
   ]
  },
  {
   "cell_type": "code",
   "execution_count": 5,
   "id": "4fc5e8d1-9386-4f00-9e9c-47617018c23d",
   "metadata": {},
   "outputs": [],
   "source": [
    "train_datagen=image.ImageDataGenerator(\n",
    "rescale=1./255,\n",
    "    shear_range=0.2,\n",
    "    zoom_range=0.2,\n",
    "    horizontal_flip=True\n",
    ")\n",
    "test_datagen=image.ImageDataGenerator(rescale=1./255)\n"
   ]
  },
  {
   "cell_type": "code",
   "execution_count": 6,
   "id": "cea4a736-4891-4294-8043-477d86abf6a1",
   "metadata": {},
   "outputs": [
    {
     "name": "stdout",
     "output_type": "stream",
     "text": [
      "Found 224 images belonging to 2 classes.\n"
     ]
    }
   ],
   "source": [
    "train_generator=train_datagen.flow_from_directory(\n",
    "'CovidDataset7/train',\n",
    "    target_size=(190,190),\n",
    "    batch_size=32,\n",
    "    class_mode='binary'\n",
    ")"
   ]
  },
  {
   "cell_type": "code",
   "execution_count": 7,
   "id": "ceb33b92-eab5-41fe-9683-3b3a1d3de21d",
   "metadata": {},
   "outputs": [
    {
     "data": {
      "text/plain": [
       "{'covid': 0, 'normal': 1}"
      ]
     },
     "execution_count": 7,
     "metadata": {},
     "output_type": "execute_result"
    }
   ],
   "source": [
    "train_generator.class_indices"
   ]
  },
  {
   "cell_type": "code",
   "execution_count": 8,
   "id": "9adf2661-8280-4639-a477-36a47dad7c6d",
   "metadata": {},
   "outputs": [
    {
     "name": "stdout",
     "output_type": "stream",
     "text": [
      "Found 60 images belonging to 2 classes.\n"
     ]
    }
   ],
   "source": [
    "validation_generator=test_datagen.flow_from_directory(\n",
    "'CovidDataset7/val',\n",
    "    target_size=(190,190),\n",
    "    batch_size=32,\n",
    "    class_mode='binary'\n",
    ")"
   ]
  },
  {
   "cell_type": "code",
   "execution_count": 9,
   "id": "1f9ad0cc-4afd-4707-81ad-a23a6f49dc0c",
   "metadata": {},
   "outputs": [
    {
     "data": {
      "text/plain": [
       "{'covid': 0, 'normal': 1}"
      ]
     },
     "execution_count": 9,
     "metadata": {},
     "output_type": "execute_result"
    }
   ],
   "source": [
    "validation_generator.class_indices"
   ]
  },
  {
   "cell_type": "code",
   "execution_count": 10,
   "id": "4e79b143-f234-4af8-a6a3-e08ae387a416",
   "metadata": {},
   "outputs": [
    {
     "name": "stdout",
     "output_type": "stream",
     "text": [
      "Epoch 1/14\n",
      "7/7 [==============================] - 32s 4s/step - loss: 1.0465 - accuracy: 0.5000 - val_loss: 0.6900 - val_accuracy: 0.6167\n",
      "Epoch 2/14\n",
      "7/7 [==============================] - 28s 4s/step - loss: 0.6882 - accuracy: 0.5580 - val_loss: 0.6545 - val_accuracy: 0.8667\n",
      "Epoch 3/14\n",
      "7/7 [==============================] - 29s 4s/step - loss: 0.6593 - accuracy: 0.6875 - val_loss: 0.5574 - val_accuracy: 0.9167\n",
      "Epoch 4/14\n",
      "7/7 [==============================] - 29s 4s/step - loss: 0.5605 - accuracy: 0.7723 - val_loss: 0.2597 - val_accuracy: 0.9333\n",
      "Epoch 5/14\n",
      "7/7 [==============================] - 29s 4s/step - loss: 0.3819 - accuracy: 0.8527 - val_loss: 0.0858 - val_accuracy: 0.9667\n",
      "Epoch 6/14\n",
      "7/7 [==============================] - 29s 4s/step - loss: 0.2190 - accuracy: 0.9196 - val_loss: 0.0822 - val_accuracy: 0.9500\n",
      "Epoch 7/14\n",
      "7/7 [==============================] - 29s 4s/step - loss: 0.1458 - accuracy: 0.9509 - val_loss: 0.0345 - val_accuracy: 0.9833\n",
      "Epoch 8/14\n",
      "7/7 [==============================] - 29s 4s/step - loss: 0.1050 - accuracy: 0.9777 - val_loss: 0.0746 - val_accuracy: 0.9667\n",
      "Epoch 9/14\n",
      "7/7 [==============================] - 29s 4s/step - loss: 0.1407 - accuracy: 0.9420 - val_loss: 0.0361 - val_accuracy: 0.9833\n",
      "Epoch 10/14\n",
      "7/7 [==============================] - 29s 4s/step - loss: 0.1675 - accuracy: 0.9464 - val_loss: 0.1163 - val_accuracy: 0.9667\n",
      "Epoch 11/14\n",
      "7/7 [==============================] - 29s 4s/step - loss: 0.1349 - accuracy: 0.9420 - val_loss: 0.0277 - val_accuracy: 1.0000\n",
      "Epoch 12/14\n",
      "7/7 [==============================] - 29s 4s/step - loss: 0.1334 - accuracy: 0.9509 - val_loss: 0.0868 - val_accuracy: 0.9667\n",
      "Epoch 13/14\n",
      "7/7 [==============================] - 29s 4s/step - loss: 0.0907 - accuracy: 0.9643 - val_loss: 0.1250 - val_accuracy: 0.9667\n",
      "Epoch 14/14\n",
      "7/7 [==============================] - 29s 4s/step - loss: 0.0874 - accuracy: 0.9732 - val_loss: 0.0797 - val_accuracy: 0.9667\n"
     ]
    }
   ],
   "source": [
    "hist=model.fit(\n",
    "train_generator,\n",
    "    epochs=14,\n",
    "    validation_data=validation_generator,\n",
    "    validation_steps=2\n",
    ")"
   ]
  },
  {
   "cell_type": "code",
   "execution_count": 11,
   "id": "40d1047d-7ab2-4f09-86d1-53281e4bbc53",
   "metadata": {},
   "outputs": [],
   "source": [
    "model.save('initial_model7.h5')"
   ]
  },
  {
   "cell_type": "code",
   "execution_count": null,
   "id": "545a529b-f9f8-4353-b62f-1d902f2bac16",
   "metadata": {},
   "outputs": [],
   "source": []
  },
  {
   "cell_type": "code",
   "execution_count": null,
   "id": "e63ce3ea-2aad-426f-8372-077fce14d213",
   "metadata": {},
   "outputs": [],
   "source": []
  }
 ],
 "metadata": {
  "kernelspec": {
   "display_name": "Python 3 (ipykernel)",
   "language": "python",
   "name": "python3"
  },
  "language_info": {
   "codemirror_mode": {
    "name": "ipython",
    "version": 3
   },
   "file_extension": ".py",
   "mimetype": "text/x-python",
   "name": "python",
   "nbconvert_exporter": "python",
   "pygments_lexer": "ipython3",
   "version": "3.9.0"
  }
 },
 "nbformat": 4,
 "nbformat_minor": 5
}
