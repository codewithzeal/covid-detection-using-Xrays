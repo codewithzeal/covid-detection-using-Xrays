{
 "cells": [
  {
   "cell_type": "markdown",
   "id": "1f92740b-b0a6-4af1-83ee-f19546c9f37c",
   "metadata": {},
   "source": [
    "# About"
   ]
  },
  {
   "cell_type": "markdown",
   "id": "67e5e820-b738-4443-8a0c-a5a023c49d04",
   "metadata": {},
   "source": [
    "#### This model is based on CNN which uses orignal unfiltered dataset"
   ]
  },
  {
   "cell_type": "code",
   "execution_count": 2,
   "id": "d83a40b6-9633-4812-b244-db2195b660f5",
   "metadata": {},
   "outputs": [],
   "source": [
    "TRAIN_PATH=\"CovidDataset/train\"\n",
    "VAL_PATH=\"CovidDataset/val\""
   ]
  },
  {
   "cell_type": "code",
   "execution_count": 1,
   "id": "38bea9ff-e039-4486-8f53-6a7578c66cbb",
   "metadata": {},
   "outputs": [],
   "source": [
    "import numpy as np\n",
    "import matplotlib.pyplot as plt\n",
    "import keras\n",
    "from keras.layers import *\n",
    "from keras.models import *\n",
    "from keras.preprocessing import image"
   ]
  },
  {
   "cell_type": "code",
   "execution_count": 2,
   "id": "cdbf23ca-a122-4c5a-ae24-b96e013965cd",
   "metadata": {},
   "outputs": [],
   "source": [
    "model=Sequential()\n",
    "model.add(Conv2D(32,kernel_size=(3,3),activation='relu',input_shape=(190,190,3)))\n",
    "model.add(Conv2D(64,kernel_size=(3,3),activation='relu'))\n",
    "model.add(MaxPooling2D(pool_size=(2,2)))\n",
    "model.add(Dropout(0.25))\n",
    "\n",
    "model.add(Conv2D(64,kernel_size=(3,3),activation='relu'))\n",
    "model.add(MaxPooling2D(pool_size=(2,2)))\n",
    "model.add(Dropout(0.25))\n",
    "\n",
    "\n",
    "model.add(Conv2D(128,kernel_size=(3,3),activation='relu'))\n",
    "model.add(MaxPooling2D(pool_size=(2,2)))\n",
    "model.add(Dropout(0.25))\n",
    "\n",
    "\n",
    "model.add(Flatten())\n",
    "model.add(Dense(64,activation='relu'))\n",
    "model.add(Dropout(0.5))\n",
    "model.add(Dense(1,activation='sigmoid'))\n",
    "\n",
    "\n",
    "model.compile(loss=keras.losses.binary_crossentropy,optimizer='adam',metrics=['accuracy'])\n"
   ]
  },
  {
   "cell_type": "code",
   "execution_count": 3,
   "id": "e840d336-cf04-4611-8fef-14b8e840830e",
   "metadata": {},
   "outputs": [
    {
     "name": "stdout",
     "output_type": "stream",
     "text": [
      "Model: \"sequential\"\n",
      "_________________________________________________________________\n",
      " Layer (type)                Output Shape              Param #   \n",
      "=================================================================\n",
      " conv2d (Conv2D)             (None, 188, 188, 32)      896       \n",
      "                                                                 \n",
      " conv2d_1 (Conv2D)           (None, 186, 186, 64)      18496     \n",
      "                                                                 \n",
      " max_pooling2d (MaxPooling2D  (None, 93, 93, 64)       0         \n",
      " )                                                               \n",
      "                                                                 \n",
      " dropout (Dropout)           (None, 93, 93, 64)        0         \n",
      "                                                                 \n",
      " conv2d_2 (Conv2D)           (None, 91, 91, 64)        36928     \n",
      "                                                                 \n",
      " max_pooling2d_1 (MaxPooling  (None, 45, 45, 64)       0         \n",
      " 2D)                                                             \n",
      "                                                                 \n",
      " dropout_1 (Dropout)         (None, 45, 45, 64)        0         \n",
      "                                                                 \n",
      " conv2d_3 (Conv2D)           (None, 43, 43, 128)       73856     \n",
      "                                                                 \n",
      " max_pooling2d_2 (MaxPooling  (None, 21, 21, 128)      0         \n",
      " 2D)                                                             \n",
      "                                                                 \n",
      " dropout_2 (Dropout)         (None, 21, 21, 128)       0         \n",
      "                                                                 \n",
      " flatten (Flatten)           (None, 56448)             0         \n",
      "                                                                 \n",
      " dense (Dense)               (None, 64)                3612736   \n",
      "                                                                 \n",
      " dropout_3 (Dropout)         (None, 64)                0         \n",
      "                                                                 \n",
      " dense_1 (Dense)             (None, 1)                 65        \n",
      "                                                                 \n",
      "=================================================================\n",
      "Total params: 3,742,977\n",
      "Trainable params: 3,742,977\n",
      "Non-trainable params: 0\n",
      "_________________________________________________________________\n"
     ]
    }
   ],
   "source": [
    "model.summary()"
   ]
  },
  {
   "cell_type": "markdown",
   "id": "153e6268-5837-48e7-aab3-319268f0d72a",
   "metadata": {},
   "source": [
    "##### This generates a dataset for training on images. The two folders namely covid and normal is automatically classified as two classes of output"
   ]
  },
  {
   "cell_type": "code",
   "execution_count": 4,
   "id": "0362a42b-b2af-4bc7-b5ff-2003ee5b24b3",
   "metadata": {},
   "outputs": [],
   "source": [
    "train_datagen=image.ImageDataGenerator(\n",
    "rescale=1./255,\n",
    "    shear_range=0.2,\n",
    "    zoom_range=0.2,\n",
    "    horizontal_flip=True\n",
    ")\n",
    "test_datagen=image.ImageDataGenerator(rescale=1./255)\n"
   ]
  },
  {
   "cell_type": "code",
   "execution_count": 5,
   "id": "6feb3fc5-9058-453e-ab7b-22d4ff766d77",
   "metadata": {},
   "outputs": [
    {
     "name": "stdout",
     "output_type": "stream",
     "text": [
      "Found 224 images belonging to 2 classes.\n"
     ]
    }
   ],
   "source": [
    "train_generator=train_datagen.flow_from_directory(\n",
    "'CovidDataset/train',\n",
    "    target_size=(190,190),\n",
    "    batch_size=32,\n",
    "    class_mode='binary'\n",
    ")"
   ]
  },
  {
   "cell_type": "code",
   "execution_count": 6,
   "id": "cc193416-8eed-4b10-866b-2bc44ce838a8",
   "metadata": {},
   "outputs": [
    {
     "data": {
      "text/plain": [
       "{'Covid': 0, 'Normal': 1}"
      ]
     },
     "execution_count": 6,
     "metadata": {},
     "output_type": "execute_result"
    }
   ],
   "source": [
    "train_generator.class_indices"
   ]
  },
  {
   "cell_type": "code",
   "execution_count": 7,
   "id": "66410909-1f4a-43b7-b3ad-04f3dc25d242",
   "metadata": {},
   "outputs": [
    {
     "name": "stdout",
     "output_type": "stream",
     "text": [
      "Found 60 images belonging to 2 classes.\n"
     ]
    }
   ],
   "source": [
    "validation_generator=test_datagen.flow_from_directory(\n",
    "'CovidDataset/val',\n",
    "    target_size=(190,190),\n",
    "    batch_size=32,\n",
    "    class_mode='binary'\n",
    ")"
   ]
  },
  {
   "cell_type": "code",
   "execution_count": 8,
   "id": "a4b3d332-bda7-4a1a-89ed-922a81887804",
   "metadata": {},
   "outputs": [
    {
     "data": {
      "text/plain": [
       "{'Covid': 0, 'Normal': 1}"
      ]
     },
     "execution_count": 8,
     "metadata": {},
     "output_type": "execute_result"
    }
   ],
   "source": [
    "validation_generator.class_indices"
   ]
  },
  {
   "cell_type": "code",
   "execution_count": 9,
   "id": "1672c512-5ff4-42e7-adfd-63fc36cb76fa",
   "metadata": {},
   "outputs": [
    {
     "name": "stdout",
     "output_type": "stream",
     "text": [
      "Epoch 1/14\n",
      "7/7 [==============================] - 37s 5s/step - loss: 1.2296 - accuracy: 0.5714 - val_loss: 0.6903 - val_accuracy: 0.5000\n",
      "Epoch 2/14\n",
      "7/7 [==============================] - 33s 5s/step - loss: 0.6868 - accuracy: 0.5402 - val_loss: 0.6752 - val_accuracy: 0.9333\n",
      "Epoch 3/14\n",
      "7/7 [==============================] - 34s 5s/step - loss: 0.5772 - accuracy: 0.7232 - val_loss: 0.4887 - val_accuracy: 0.9667\n",
      "Epoch 4/14\n",
      "7/7 [==============================] - 33s 5s/step - loss: 0.3430 - accuracy: 0.8705 - val_loss: 0.2015 - val_accuracy: 0.9833\n",
      "Epoch 5/14\n",
      "7/7 [==============================] - 35s 5s/step - loss: 0.2654 - accuracy: 0.9107 - val_loss: 0.1121 - val_accuracy: 0.9833\n",
      "Epoch 6/14\n",
      "7/7 [==============================] - 35s 5s/step - loss: 0.1880 - accuracy: 0.9018 - val_loss: 0.1003 - val_accuracy: 0.9833\n",
      "Epoch 7/14\n",
      "7/7 [==============================] - 33s 5s/step - loss: 0.2329 - accuracy: 0.9464 - val_loss: 0.0701 - val_accuracy: 0.9833\n",
      "Epoch 8/14\n",
      "7/7 [==============================] - 33s 5s/step - loss: 0.1877 - accuracy: 0.9420 - val_loss: 0.1217 - val_accuracy: 0.9667\n",
      "Epoch 9/14\n",
      "7/7 [==============================] - 34s 5s/step - loss: 0.1769 - accuracy: 0.9330 - val_loss: 0.1172 - val_accuracy: 0.9833\n",
      "Epoch 10/14\n",
      "7/7 [==============================] - 35s 5s/step - loss: 0.1454 - accuracy: 0.9330 - val_loss: 0.0628 - val_accuracy: 0.9833\n",
      "Epoch 11/14\n",
      "7/7 [==============================] - 35s 5s/step - loss: 0.1220 - accuracy: 0.9420 - val_loss: 0.0368 - val_accuracy: 1.0000\n",
      "Epoch 12/14\n",
      "7/7 [==============================] - 33s 5s/step - loss: 0.1696 - accuracy: 0.9330 - val_loss: 0.0501 - val_accuracy: 0.9833\n",
      "Epoch 13/14\n",
      "7/7 [==============================] - 35s 5s/step - loss: 0.1467 - accuracy: 0.9464 - val_loss: 0.0490 - val_accuracy: 0.9833\n",
      "Epoch 14/14\n",
      "7/7 [==============================] - 34s 5s/step - loss: 0.1344 - accuracy: 0.9509 - val_loss: 0.0524 - val_accuracy: 0.9667\n"
     ]
    }
   ],
   "source": [
    "hist=model.fit(\n",
    "train_generator,\n",
    "    epochs=14,\n",
    "    validation_data=validation_generator,\n",
    "    validation_steps=2\n",
    ")"
   ]
  },
  {
   "cell_type": "code",
   "execution_count": 10,
   "id": "8cd3f0cf-9e66-4e14-9574-1ec540a43455",
   "metadata": {},
   "outputs": [],
   "source": [
    "model.save('initial_model.h5')"
   ]
  },
  {
   "cell_type": "code",
   "execution_count": null,
   "id": "9169f43b-6fc4-48de-8f9b-e6a7538579a3",
   "metadata": {},
   "outputs": [],
   "source": []
  },
  {
   "cell_type": "code",
   "execution_count": null,
   "id": "e88e3a8d-d5cd-4d0e-b013-e9f7302b2236",
   "metadata": {},
   "outputs": [],
   "source": []
  }
 ],
 "metadata": {
  "kernelspec": {
   "display_name": "Python 3 (ipykernel)",
   "language": "python",
   "name": "python3"
  },
  "language_info": {
   "codemirror_mode": {
    "name": "ipython",
    "version": 3
   },
   "file_extension": ".py",
   "mimetype": "text/x-python",
   "name": "python",
   "nbconvert_exporter": "python",
   "pygments_lexer": "ipython3",
   "version": "3.9.0"
  }
 },
 "nbformat": 4,
 "nbformat_minor": 5
}
